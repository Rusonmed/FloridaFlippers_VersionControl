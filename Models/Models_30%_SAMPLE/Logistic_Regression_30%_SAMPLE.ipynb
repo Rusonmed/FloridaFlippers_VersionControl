{
 "cells": [
  {
   "cell_type": "code",
   "execution_count": 1,
   "metadata": {},
   "outputs": [],
   "source": [
    "# Common imports\n",
    "import numpy as np\n",
    "import pandas as pd\n",
    "np.random.seed(42)"
   ]
  },
  {
   "cell_type": "code",
   "execution_count": 2,
   "metadata": {},
   "outputs": [
    {
     "data": {
      "text/html": [
       "<div>\n",
       "<style scoped>\n",
       "    .dataframe tbody tr th:only-of-type {\n",
       "        vertical-align: middle;\n",
       "    }\n",
       "\n",
       "    .dataframe tbody tr th {\n",
       "        vertical-align: top;\n",
       "    }\n",
       "\n",
       "    .dataframe thead th {\n",
       "        text-align: right;\n",
       "    }\n",
       "</style>\n",
       "<table border=\"1\" class=\"dataframe\">\n",
       "  <thead>\n",
       "    <tr style=\"text-align: right;\">\n",
       "      <th></th>\n",
       "      <th>EFF_AGE</th>\n",
       "      <th>ACT_AGE</th>\n",
       "      <th>LND_SQFOOT</th>\n",
       "      <th>TOT_LVG_AREA</th>\n",
       "      <th>S_LEGAL</th>\n",
       "      <th>CONST_CLASS</th>\n",
       "      <th>IMP_QUAL</th>\n",
       "      <th>JV</th>\n",
       "      <th>LND_VAL</th>\n",
       "      <th>NO_BULDNG</th>\n",
       "      <th>NCONST_VAL</th>\n",
       "      <th>DEL_VAL</th>\n",
       "      <th>SPEC_FEAT_VAL</th>\n",
       "      <th>MonthDifference</th>\n",
       "      <th>SALE_PRC1</th>\n",
       "      <th>Target_Var</th>\n",
       "    </tr>\n",
       "  </thead>\n",
       "  <tbody>\n",
       "    <tr>\n",
       "      <th>0</th>\n",
       "      <td>23</td>\n",
       "      <td>23</td>\n",
       "      <td>20850</td>\n",
       "      <td>1453</td>\n",
       "      <td>LOTS 13 TO 18 INC BLK L 4TH AD</td>\n",
       "      <td>0</td>\n",
       "      <td>3</td>\n",
       "      <td>154349</td>\n",
       "      <td>13755</td>\n",
       "      <td>1</td>\n",
       "      <td>0</td>\n",
       "      <td>0</td>\n",
       "      <td>13661</td>\n",
       "      <td>5</td>\n",
       "      <td>205000</td>\n",
       "      <td>0</td>\n",
       "    </tr>\n",
       "    <tr>\n",
       "      <th>1</th>\n",
       "      <td>18</td>\n",
       "      <td>22</td>\n",
       "      <td>10000</td>\n",
       "      <td>1330</td>\n",
       "      <td>LOT 8 BLK 266 DELTONA LAKES UN</td>\n",
       "      <td>0</td>\n",
       "      <td>3</td>\n",
       "      <td>149271</td>\n",
       "      <td>20400</td>\n",
       "      <td>1</td>\n",
       "      <td>0</td>\n",
       "      <td>0</td>\n",
       "      <td>278</td>\n",
       "      <td>3</td>\n",
       "      <td>210000</td>\n",
       "      <td>0</td>\n",
       "    </tr>\n",
       "    <tr>\n",
       "      <th>2</th>\n",
       "      <td>7</td>\n",
       "      <td>30</td>\n",
       "      <td>10000</td>\n",
       "      <td>1395</td>\n",
       "      <td>LOT 9 BLK 322 DELTONA LAKES UN</td>\n",
       "      <td>0</td>\n",
       "      <td>3</td>\n",
       "      <td>169016</td>\n",
       "      <td>21200</td>\n",
       "      <td>1</td>\n",
       "      <td>0</td>\n",
       "      <td>0</td>\n",
       "      <td>0</td>\n",
       "      <td>5</td>\n",
       "      <td>199900</td>\n",
       "      <td>0</td>\n",
       "    </tr>\n",
       "    <tr>\n",
       "      <th>3</th>\n",
       "      <td>12</td>\n",
       "      <td>20</td>\n",
       "      <td>10000</td>\n",
       "      <td>1551</td>\n",
       "      <td>LOT 9 BLK 370 DELTONA LAKES UN</td>\n",
       "      <td>0</td>\n",
       "      <td>3</td>\n",
       "      <td>167252</td>\n",
       "      <td>21200</td>\n",
       "      <td>1</td>\n",
       "      <td>0</td>\n",
       "      <td>0</td>\n",
       "      <td>142</td>\n",
       "      <td>4</td>\n",
       "      <td>186000</td>\n",
       "      <td>0</td>\n",
       "    </tr>\n",
       "    <tr>\n",
       "      <th>4</th>\n",
       "      <td>42</td>\n",
       "      <td>42</td>\n",
       "      <td>10250</td>\n",
       "      <td>1702</td>\n",
       "      <td>LOT 7 BLK 366 DELTONA LAKES UN</td>\n",
       "      <td>0</td>\n",
       "      <td>3</td>\n",
       "      <td>130450</td>\n",
       "      <td>24600</td>\n",
       "      <td>1</td>\n",
       "      <td>0</td>\n",
       "      <td>0</td>\n",
       "      <td>897</td>\n",
       "      <td>4</td>\n",
       "      <td>219900</td>\n",
       "      <td>0</td>\n",
       "    </tr>\n",
       "  </tbody>\n",
       "</table>\n",
       "</div>"
      ],
      "text/plain": [
       "   EFF_AGE  ACT_AGE  LND_SQFOOT  TOT_LVG_AREA                         S_LEGAL  \\\n",
       "0       23       23       20850          1453  LOTS 13 TO 18 INC BLK L 4TH AD   \n",
       "1       18       22       10000          1330  LOT 8 BLK 266 DELTONA LAKES UN   \n",
       "2        7       30       10000          1395  LOT 9 BLK 322 DELTONA LAKES UN   \n",
       "3       12       20       10000          1551  LOT 9 BLK 370 DELTONA LAKES UN   \n",
       "4       42       42       10250          1702  LOT 7 BLK 366 DELTONA LAKES UN   \n",
       "\n",
       "   CONST_CLASS  IMP_QUAL      JV  LND_VAL  NO_BULDNG  NCONST_VAL  DEL_VAL  \\\n",
       "0            0         3  154349    13755          1           0        0   \n",
       "1            0         3  149271    20400          1           0        0   \n",
       "2            0         3  169016    21200          1           0        0   \n",
       "3            0         3  167252    21200          1           0        0   \n",
       "4            0         3  130450    24600          1           0        0   \n",
       "\n",
       "   SPEC_FEAT_VAL  MonthDifference  SALE_PRC1  Target_Var  \n",
       "0          13661                5     205000           0  \n",
       "1            278                3     210000           0  \n",
       "2              0                5     199900           0  \n",
       "3            142                4     186000           0  \n",
       "4            897                4     219900           0  "
      ]
     },
     "execution_count": 2,
     "metadata": {},
     "output_type": "execute_result"
    }
   ],
   "source": [
    "flippers = pd.read_csv(\"INPUTS_1000.csv\")\n",
    "flippers.head()"
   ]
  },
  {
   "cell_type": "code",
   "execution_count": 3,
   "metadata": {},
   "outputs": [
    {
     "data": {
      "text/plain": [
       "(1000, 16)"
      ]
     },
     "execution_count": 3,
     "metadata": {},
     "output_type": "execute_result"
    }
   ],
   "source": [
    "flippers.shape"
   ]
  },
  {
   "cell_type": "code",
   "execution_count": 4,
   "metadata": {},
   "outputs": [],
   "source": [
    "# Sampling 30% of the data set due to the hardware limitations to derive Feature Importance\n",
    "# when 100% of the data set processed, system asked for 200 GB of Ram\n",
    "# Accuracy and Confusion Matrix reported on the final report were derived from 100% of origianl data set\n",
    "flippers = flippers.sample(frac=0.30)"
   ]
  },
  {
   "cell_type": "code",
   "execution_count": 5,
   "metadata": {},
   "outputs": [
    {
     "data": {
      "text/plain": [
       "(300, 16)"
      ]
     },
     "execution_count": 5,
     "metadata": {},
     "output_type": "execute_result"
    }
   ],
   "source": [
    "flippers.shape"
   ]
  },
  {
   "cell_type": "code",
   "execution_count": 6,
   "metadata": {},
   "outputs": [
    {
     "data": {
      "text/plain": [
       "EFF_AGE             int64\n",
       "ACT_AGE             int64\n",
       "LND_SQFOOT          int64\n",
       "TOT_LVG_AREA        int64\n",
       "S_LEGAL            object\n",
       "CONST_CLASS         int64\n",
       "IMP_QUAL            int64\n",
       "JV                  int64\n",
       "LND_VAL             int64\n",
       "NO_BULDNG           int64\n",
       "NCONST_VAL          int64\n",
       "DEL_VAL             int64\n",
       "SPEC_FEAT_VAL       int64\n",
       "MonthDifference     int64\n",
       "SALE_PRC1           int64\n",
       "Target_Var          int64\n",
       "dtype: object"
      ]
     },
     "execution_count": 6,
     "metadata": {},
     "output_type": "execute_result"
    }
   ],
   "source": [
    "flippers.dtypes"
   ]
  },
  {
   "cell_type": "markdown",
   "metadata": {},
   "source": [
    "## Splitting the data into train and test sets"
   ]
  },
  {
   "cell_type": "code",
   "execution_count": 7,
   "metadata": {},
   "outputs": [],
   "source": [
    "#Splitting Data\n",
    "from sklearn.model_selection import train_test_split\n",
    "train, test = train_test_split(flippers, test_size=0.3)"
   ]
  },
  {
   "cell_type": "code",
   "execution_count": 8,
   "metadata": {},
   "outputs": [
    {
     "data": {
      "text/plain": [
       "EFF_AGE            0\n",
       "ACT_AGE            0\n",
       "LND_SQFOOT         0\n",
       "TOT_LVG_AREA       0\n",
       "S_LEGAL            0\n",
       "CONST_CLASS        0\n",
       "IMP_QUAL           0\n",
       "JV                 0\n",
       "LND_VAL            0\n",
       "NO_BULDNG          0\n",
       "NCONST_VAL         0\n",
       "DEL_VAL            0\n",
       "SPEC_FEAT_VAL      0\n",
       "MonthDifference    0\n",
       "SALE_PRC1          0\n",
       "Target_Var         0\n",
       "dtype: int64"
      ]
     },
     "execution_count": 8,
     "metadata": {},
     "output_type": "execute_result"
    }
   ],
   "source": [
    "#Checking for missing values\n",
    "train.isna().sum()"
   ]
  },
  {
   "cell_type": "code",
   "execution_count": 9,
   "metadata": {},
   "outputs": [
    {
     "data": {
      "text/html": [
       "<div>\n",
       "<style scoped>\n",
       "    .dataframe tbody tr th:only-of-type {\n",
       "        vertical-align: middle;\n",
       "    }\n",
       "\n",
       "    .dataframe tbody tr th {\n",
       "        vertical-align: top;\n",
       "    }\n",
       "\n",
       "    .dataframe thead th {\n",
       "        text-align: right;\n",
       "    }\n",
       "</style>\n",
       "<table border=\"1\" class=\"dataframe\">\n",
       "  <thead>\n",
       "    <tr style=\"text-align: right;\">\n",
       "      <th></th>\n",
       "      <th>EFF_AGE</th>\n",
       "      <th>ACT_AGE</th>\n",
       "      <th>LND_SQFOOT</th>\n",
       "      <th>TOT_LVG_AREA</th>\n",
       "      <th>S_LEGAL</th>\n",
       "      <th>CONST_CLASS</th>\n",
       "      <th>IMP_QUAL</th>\n",
       "      <th>JV</th>\n",
       "      <th>LND_VAL</th>\n",
       "      <th>NO_BULDNG</th>\n",
       "      <th>NCONST_VAL</th>\n",
       "      <th>DEL_VAL</th>\n",
       "      <th>SPEC_FEAT_VAL</th>\n",
       "      <th>MonthDifference</th>\n",
       "      <th>SALE_PRC1</th>\n",
       "      <th>Target_Var</th>\n",
       "    </tr>\n",
       "  </thead>\n",
       "  <tbody>\n",
       "    <tr>\n",
       "      <th>299</th>\n",
       "      <td>False</td>\n",
       "      <td>False</td>\n",
       "      <td>False</td>\n",
       "      <td>False</td>\n",
       "      <td>False</td>\n",
       "      <td>False</td>\n",
       "      <td>False</td>\n",
       "      <td>False</td>\n",
       "      <td>False</td>\n",
       "      <td>False</td>\n",
       "      <td>False</td>\n",
       "      <td>False</td>\n",
       "      <td>False</td>\n",
       "      <td>False</td>\n",
       "      <td>False</td>\n",
       "      <td>False</td>\n",
       "    </tr>\n",
       "    <tr>\n",
       "      <th>314</th>\n",
       "      <td>False</td>\n",
       "      <td>False</td>\n",
       "      <td>False</td>\n",
       "      <td>False</td>\n",
       "      <td>False</td>\n",
       "      <td>False</td>\n",
       "      <td>False</td>\n",
       "      <td>False</td>\n",
       "      <td>False</td>\n",
       "      <td>False</td>\n",
       "      <td>False</td>\n",
       "      <td>False</td>\n",
       "      <td>False</td>\n",
       "      <td>False</td>\n",
       "      <td>False</td>\n",
       "      <td>False</td>\n",
       "    </tr>\n",
       "    <tr>\n",
       "      <th>559</th>\n",
       "      <td>False</td>\n",
       "      <td>False</td>\n",
       "      <td>False</td>\n",
       "      <td>False</td>\n",
       "      <td>False</td>\n",
       "      <td>False</td>\n",
       "      <td>False</td>\n",
       "      <td>False</td>\n",
       "      <td>False</td>\n",
       "      <td>False</td>\n",
       "      <td>False</td>\n",
       "      <td>False</td>\n",
       "      <td>False</td>\n",
       "      <td>False</td>\n",
       "      <td>False</td>\n",
       "      <td>False</td>\n",
       "    </tr>\n",
       "    <tr>\n",
       "      <th>947</th>\n",
       "      <td>False</td>\n",
       "      <td>False</td>\n",
       "      <td>False</td>\n",
       "      <td>False</td>\n",
       "      <td>False</td>\n",
       "      <td>False</td>\n",
       "      <td>False</td>\n",
       "      <td>False</td>\n",
       "      <td>False</td>\n",
       "      <td>False</td>\n",
       "      <td>False</td>\n",
       "      <td>False</td>\n",
       "      <td>False</td>\n",
       "      <td>False</td>\n",
       "      <td>False</td>\n",
       "      <td>False</td>\n",
       "    </tr>\n",
       "    <tr>\n",
       "      <th>139</th>\n",
       "      <td>False</td>\n",
       "      <td>False</td>\n",
       "      <td>False</td>\n",
       "      <td>False</td>\n",
       "      <td>False</td>\n",
       "      <td>False</td>\n",
       "      <td>False</td>\n",
       "      <td>False</td>\n",
       "      <td>False</td>\n",
       "      <td>False</td>\n",
       "      <td>False</td>\n",
       "      <td>False</td>\n",
       "      <td>False</td>\n",
       "      <td>False</td>\n",
       "      <td>False</td>\n",
       "      <td>False</td>\n",
       "    </tr>\n",
       "    <tr>\n",
       "      <th>...</th>\n",
       "      <td>...</td>\n",
       "      <td>...</td>\n",
       "      <td>...</td>\n",
       "      <td>...</td>\n",
       "      <td>...</td>\n",
       "      <td>...</td>\n",
       "      <td>...</td>\n",
       "      <td>...</td>\n",
       "      <td>...</td>\n",
       "      <td>...</td>\n",
       "      <td>...</td>\n",
       "      <td>...</td>\n",
       "      <td>...</td>\n",
       "      <td>...</td>\n",
       "      <td>...</td>\n",
       "      <td>...</td>\n",
       "    </tr>\n",
       "    <tr>\n",
       "      <th>67</th>\n",
       "      <td>False</td>\n",
       "      <td>False</td>\n",
       "      <td>False</td>\n",
       "      <td>False</td>\n",
       "      <td>False</td>\n",
       "      <td>False</td>\n",
       "      <td>False</td>\n",
       "      <td>False</td>\n",
       "      <td>False</td>\n",
       "      <td>False</td>\n",
       "      <td>False</td>\n",
       "      <td>False</td>\n",
       "      <td>False</td>\n",
       "      <td>False</td>\n",
       "      <td>False</td>\n",
       "      <td>False</td>\n",
       "    </tr>\n",
       "    <tr>\n",
       "      <th>800</th>\n",
       "      <td>False</td>\n",
       "      <td>False</td>\n",
       "      <td>False</td>\n",
       "      <td>False</td>\n",
       "      <td>False</td>\n",
       "      <td>False</td>\n",
       "      <td>False</td>\n",
       "      <td>False</td>\n",
       "      <td>False</td>\n",
       "      <td>False</td>\n",
       "      <td>False</td>\n",
       "      <td>False</td>\n",
       "      <td>False</td>\n",
       "      <td>False</td>\n",
       "      <td>False</td>\n",
       "      <td>False</td>\n",
       "    </tr>\n",
       "    <tr>\n",
       "      <th>689</th>\n",
       "      <td>False</td>\n",
       "      <td>False</td>\n",
       "      <td>False</td>\n",
       "      <td>False</td>\n",
       "      <td>False</td>\n",
       "      <td>False</td>\n",
       "      <td>False</td>\n",
       "      <td>False</td>\n",
       "      <td>False</td>\n",
       "      <td>False</td>\n",
       "      <td>False</td>\n",
       "      <td>False</td>\n",
       "      <td>False</td>\n",
       "      <td>False</td>\n",
       "      <td>False</td>\n",
       "      <td>False</td>\n",
       "    </tr>\n",
       "    <tr>\n",
       "      <th>636</th>\n",
       "      <td>False</td>\n",
       "      <td>False</td>\n",
       "      <td>False</td>\n",
       "      <td>False</td>\n",
       "      <td>False</td>\n",
       "      <td>False</td>\n",
       "      <td>False</td>\n",
       "      <td>False</td>\n",
       "      <td>False</td>\n",
       "      <td>False</td>\n",
       "      <td>False</td>\n",
       "      <td>False</td>\n",
       "      <td>False</td>\n",
       "      <td>False</td>\n",
       "      <td>False</td>\n",
       "      <td>False</td>\n",
       "    </tr>\n",
       "    <tr>\n",
       "      <th>479</th>\n",
       "      <td>False</td>\n",
       "      <td>False</td>\n",
       "      <td>False</td>\n",
       "      <td>False</td>\n",
       "      <td>False</td>\n",
       "      <td>False</td>\n",
       "      <td>False</td>\n",
       "      <td>False</td>\n",
       "      <td>False</td>\n",
       "      <td>False</td>\n",
       "      <td>False</td>\n",
       "      <td>False</td>\n",
       "      <td>False</td>\n",
       "      <td>False</td>\n",
       "      <td>False</td>\n",
       "      <td>False</td>\n",
       "    </tr>\n",
       "  </tbody>\n",
       "</table>\n",
       "<p>210 rows × 16 columns</p>\n",
       "</div>"
      ],
      "text/plain": [
       "     EFF_AGE  ACT_AGE  LND_SQFOOT  TOT_LVG_AREA  S_LEGAL  CONST_CLASS  \\\n",
       "299    False    False       False         False    False        False   \n",
       "314    False    False       False         False    False        False   \n",
       "559    False    False       False         False    False        False   \n",
       "947    False    False       False         False    False        False   \n",
       "139    False    False       False         False    False        False   \n",
       "..       ...      ...         ...           ...      ...          ...   \n",
       "67     False    False       False         False    False        False   \n",
       "800    False    False       False         False    False        False   \n",
       "689    False    False       False         False    False        False   \n",
       "636    False    False       False         False    False        False   \n",
       "479    False    False       False         False    False        False   \n",
       "\n",
       "     IMP_QUAL     JV  LND_VAL  NO_BULDNG  NCONST_VAL  DEL_VAL  SPEC_FEAT_VAL  \\\n",
       "299     False  False    False      False       False    False          False   \n",
       "314     False  False    False      False       False    False          False   \n",
       "559     False  False    False      False       False    False          False   \n",
       "947     False  False    False      False       False    False          False   \n",
       "139     False  False    False      False       False    False          False   \n",
       "..        ...    ...      ...        ...         ...      ...            ...   \n",
       "67      False  False    False      False       False    False          False   \n",
       "800     False  False    False      False       False    False          False   \n",
       "689     False  False    False      False       False    False          False   \n",
       "636     False  False    False      False       False    False          False   \n",
       "479     False  False    False      False       False    False          False   \n",
       "\n",
       "     MonthDifference  SALE_PRC1  Target_Var  \n",
       "299            False      False       False  \n",
       "314            False      False       False  \n",
       "559            False      False       False  \n",
       "947            False      False       False  \n",
       "139            False      False       False  \n",
       "..               ...        ...         ...  \n",
       "67             False      False       False  \n",
       "800            False      False       False  \n",
       "689            False      False       False  \n",
       "636            False      False       False  \n",
       "479            False      False       False  \n",
       "\n",
       "[210 rows x 16 columns]"
      ]
     },
     "execution_count": 9,
     "metadata": {},
     "output_type": "execute_result"
    }
   ],
   "source": [
    "train.isnull()"
   ]
  },
  {
   "cell_type": "code",
   "execution_count": 10,
   "metadata": {},
   "outputs": [],
   "source": [
    "from sklearn.compose import ColumnTransformer\n",
    "from sklearn.pipeline import Pipeline\n",
    "from sklearn.impute import SimpleImputer\n",
    "from sklearn.preprocessing import StandardScaler\n",
    "from sklearn.preprocessing import OneHotEncoder"
   ]
  },
  {
   "cell_type": "code",
   "execution_count": 11,
   "metadata": {},
   "outputs": [],
   "source": [
    "#Separating Target Variable\n",
    "train_y = train[['Target_Var']]\n",
    "test_y = test[['Target_Var']]\n",
    "\n",
    "#Removing Target, Profit_Loss and SALE_PRC2 from the Data Set\n",
    "train_x = train.drop(['Target_Var'], axis =1)\n",
    "test_x = test.drop(['Target_Var'], axis =1)   "
   ]
  },
  {
   "cell_type": "code",
   "execution_count": 12,
   "metadata": {},
   "outputs": [
    {
     "data": {
      "text/plain": [
       "(210, 15)"
      ]
     },
     "execution_count": 12,
     "metadata": {},
     "output_type": "execute_result"
    }
   ],
   "source": [
    "train_x.shape"
   ]
  },
  {
   "cell_type": "code",
   "execution_count": 13,
   "metadata": {},
   "outputs": [],
   "source": [
    "#Transforming Data Types for Numeric Columns which are categorical in nature:\n",
    "#Int\n",
    "flippers[['EFF_AGE','ACT_AGE','LND_SQFOOT','TOT_LVG_AREA','JV','LND_VAL',\n",
    "        'NO_BULDNG','NCONST_VAL','DEL_VAL','SPEC_FEAT_VAL','MonthDifference'\n",
    "        ,'SALE_PRC1']]=flippers[['EFF_AGE','ACT_AGE','LND_SQFOOT','TOT_LVG_AREA','JV','LND_VAL',\n",
    "        'NO_BULDNG','NCONST_VAL','DEL_VAL','SPEC_FEAT_VAL','MonthDifference','SALE_PRC1']].astype(int)\n",
    "\n",
    "#Str\n",
    "flippers[['S_LEGAL','IMP_QUAL','CONST_CLASS']]=flippers[['S_LEGAL','IMP_QUAL'\n",
    ",'CONST_CLASS']].astype(str)\n"
   ]
  },
  {
   "cell_type": "code",
   "execution_count": 14,
   "metadata": {},
   "outputs": [],
   "source": [
    "numeric_columns = ['EFF_AGE','ACT_AGE','LND_SQFOOT','TOT_LVG_AREA','JV','LND_VAL',\n",
    "                  'NO_BULDNG','NCONST_VAL','DEL_VAL','SPEC_FEAT_VAL','MonthDifference','SALE_PRC1']\n",
    "\n",
    "categorical_columns = ['S_LEGAL','IMP_QUAL','CONST_CLASS']"
   ]
  },
  {
   "cell_type": "code",
   "execution_count": 15,
   "metadata": {},
   "outputs": [
    {
     "data": {
      "text/plain": [
       "['EFF_AGE',\n",
       " 'ACT_AGE',\n",
       " 'LND_SQFOOT',\n",
       " 'TOT_LVG_AREA',\n",
       " 'JV',\n",
       " 'LND_VAL',\n",
       " 'NO_BULDNG',\n",
       " 'NCONST_VAL',\n",
       " 'DEL_VAL',\n",
       " 'SPEC_FEAT_VAL',\n",
       " 'MonthDifference',\n",
       " 'SALE_PRC1']"
      ]
     },
     "execution_count": 15,
     "metadata": {},
     "output_type": "execute_result"
    }
   ],
   "source": [
    "numeric_columns"
   ]
  },
  {
   "cell_type": "code",
   "execution_count": 16,
   "metadata": {},
   "outputs": [
    {
     "data": {
      "text/plain": [
       "['S_LEGAL', 'IMP_QUAL', 'CONST_CLASS']"
      ]
     },
     "execution_count": 16,
     "metadata": {},
     "output_type": "execute_result"
    }
   ],
   "source": [
    "categorical_columns"
   ]
  },
  {
   "cell_type": "code",
   "execution_count": 17,
   "metadata": {},
   "outputs": [
    {
     "data": {
      "text/plain": [
       "EFF_AGE            0\n",
       "ACT_AGE            0\n",
       "LND_SQFOOT         0\n",
       "TOT_LVG_AREA       0\n",
       "S_LEGAL            0\n",
       "CONST_CLASS        0\n",
       "IMP_QUAL           0\n",
       "JV                 0\n",
       "LND_VAL            0\n",
       "NO_BULDNG          0\n",
       "NCONST_VAL         0\n",
       "DEL_VAL            0\n",
       "SPEC_FEAT_VAL      0\n",
       "MonthDifference    0\n",
       "SALE_PRC1          0\n",
       "Target_Var         0\n",
       "dtype: int64"
      ]
     },
     "execution_count": 17,
     "metadata": {},
     "output_type": "execute_result"
    }
   ],
   "source": [
    "train.isna().sum()"
   ]
  },
  {
   "cell_type": "code",
   "execution_count": 18,
   "metadata": {},
   "outputs": [],
   "source": [
    "# Numeric Transformer\n",
    "numeric_transformer = Pipeline(steps =[\n",
    "    ('imputer', SimpleImputer(strategy='median')),\n",
    "    ('scaler',StandardScaler())\n",
    "])"
   ]
  },
  {
   "cell_type": "code",
   "execution_count": 19,
   "metadata": {},
   "outputs": [],
   "source": [
    "#Categorical Transformer\n",
    "categorical_transformer = Pipeline(steps=[\n",
    "    ('imputer', SimpleImputer(strategy='constant',fill_value='unknown')),\n",
    "    ('onehot', OneHotEncoder(handle_unknown='ignore'))\n",
    "])"
   ]
  },
  {
   "cell_type": "code",
   "execution_count": 20,
   "metadata": {},
   "outputs": [],
   "source": [
    "#Preprocessor\n",
    "preprocessor = ColumnTransformer([\n",
    "    ('num',numeric_transformer,numeric_columns),\n",
    "    ('cat', categorical_transformer, categorical_columns)\n",
    "  \n",
    "])"
   ]
  },
  {
   "cell_type": "code",
   "execution_count": 21,
   "metadata": {},
   "outputs": [
    {
     "data": {
      "text/plain": [
       "<210x219 sparse matrix of type '<class 'numpy.float64'>'\n",
       "\twith 3150 stored elements in Compressed Sparse Row format>"
      ]
     },
     "execution_count": 21,
     "metadata": {},
     "output_type": "execute_result"
    }
   ],
   "source": [
    "#Fit and transform the train data\n",
    "train_x = preprocessor.fit_transform(train_x)\n",
    "\n",
    "train_x"
   ]
  },
  {
   "cell_type": "code",
   "execution_count": 22,
   "metadata": {},
   "outputs": [
    {
     "data": {
      "text/plain": [
       "<90x219 sparse matrix of type '<class 'numpy.float64'>'\n",
       "\twith 1275 stored elements in Compressed Sparse Row format>"
      ]
     },
     "execution_count": 22,
     "metadata": {},
     "output_type": "execute_result"
    }
   ],
   "source": [
    "#Fit and transform the test data\n",
    "test_x = preprocessor.transform(test_x)\n",
    "\n",
    "test_x"
   ]
  },
  {
   "cell_type": "code",
   "execution_count": 23,
   "metadata": {},
   "outputs": [
    {
     "data": {
      "text/plain": [
       "(scipy.sparse._csr.csr_matrix, scipy.sparse._csr.csr_matrix)"
      ]
     },
     "execution_count": 23,
     "metadata": {},
     "output_type": "execute_result"
    }
   ],
   "source": [
    "type(train_x), type(test_x)"
   ]
  },
  {
   "cell_type": "code",
   "execution_count": 24,
   "metadata": {},
   "outputs": [
    {
     "data": {
      "text/plain": [
       "((210, 219), (90, 219))"
      ]
     },
     "execution_count": 24,
     "metadata": {},
     "output_type": "execute_result"
    }
   ],
   "source": [
    "train_x.shape, test_x.shape"
   ]
  },
  {
   "cell_type": "code",
   "execution_count": 25,
   "metadata": {},
   "outputs": [
    {
     "data": {
      "text/plain": [
       "array(['num__EFF_AGE', 'num__ACT_AGE', 'num__LND_SQFOOT',\n",
       "       'num__TOT_LVG_AREA', 'num__JV', 'num__LND_VAL', 'num__NO_BULDNG',\n",
       "       'num__NCONST_VAL', 'num__DEL_VAL', 'num__SPEC_FEAT_VAL',\n",
       "       'num__MonthDifference', 'num__SALE_PRC1',\n",
       "       'cat__S_LEGAL_10-15 52 42', 'cat__S_LEGAL_18-13    05-3S-26E',\n",
       "       'cat__S_LEGAL_19-50    01-3S-26E  .186',\n",
       "       'cat__S_LEGAL_2-24     56-2S-26E',\n",
       "       'cat__S_LEGAL_3-79     59-2S-26E  .78',\n",
       "       'cat__S_LEGAL_30-64    13-2S-25E',\n",
       "       'cat__S_LEGAL_31-75    14-3S-25E',\n",
       "       'cat__S_LEGAL_33 5 13 ORB 1161 P 905', 'cat__S_LEGAL_33-48-42',\n",
       "       'cat__S_LEGAL_34 6S 22', 'cat__S_LEGAL_56-76    23-1N-27E  .42',\n",
       "       'cat__S_LEGAL_61-107   35-1N-27E  .20',\n",
       "       'cat__S_LEGAL_ALBERT PARK ADD PB 3 PG 25 BLK',\n",
       "       'cat__S_LEGAL_ALOMA ESTATES 12/28 LOT 52',\n",
       "       'cat__S_LEGAL_ARLINGTON HEIGHTS',\n",
       "       'cat__S_LEGAL_BARNA PLACE E 56.49 FT OF LOT',\n",
       "       'cat__S_LEGAL_BARRINGTON ESTATES PHASE 1 SUB',\n",
       "       'cat__S_LEGAL_BAY CREST PARK UNIT NO 12',\n",
       "       'cat__S_LEGAL_BAY CREST PARK UNIT NO 21',\n",
       "       'cat__S_LEGAL_BEACON HEIGHTS 42-34 B',\n",
       "       'cat__S_LEGAL_BEACON SQUARE UNIT 10-A PB 9 P',\n",
       "       'cat__S_LEGAL_BEACON SQUARE UNIT 11-B PB 9 P',\n",
       "       'cat__S_LEGAL_BEACON SQUARE UNIT 14-C PB 9 P',\n",
       "       'cat__S_LEGAL_BEACON SQUARE UNIT 21-B PB 11',\n",
       "       'cat__S_LEGAL_BEG AT SW COR TRACT 74 TH N 89',\n",
       "       'cat__S_LEGAL_BEL AIRE PINES UNIT 2 9/133 LO',\n",
       "       'cat__S_LEGAL_BELVEDERE PARK', 'cat__S_LEGAL_BEVIS SUBD LOT 8',\n",
       "       'cat__S_LEGAL_BONNIE BROOK UNIT 1 2/122 LOT',\n",
       "       'cat__S_LEGAL_BRANDON GROVES SECTION ONE',\n",
       "       'cat__S_LEGAL_BROADMOOR PARK REVISED PLAT',\n",
       "       'cat__S_LEGAL_BROOKSHIRE HEIGHTS 4TH ADDITIO',\n",
       "       'cat__S_LEGAL_BUFFALO HEIGHTS',\n",
       "       'cat__S_LEGAL_CAMPHOR HGHTS UNIT NO 2 PB 34',\n",
       "       'cat__S_LEGAL_CARIBBEAN ISLES UNIT 2 LOT 18',\n",
       "       'cat__S_LEGAL_CATALINA ISLE ESTATES UNIT 2 L',\n",
       "       'cat__S_LEGAL_CATALINA ISLE ESTATES UNIT 6 L',\n",
       "       'cat__S_LEGAL_CHAPEL TRAIL II 112-16 B',\n",
       "       'cat__S_LEGAL_CHELSEA OAKS PHASE TWO  PB 154',\n",
       "       'cat__S_LEGAL_CIRCLE PARK S 24.08 FT OF N 13',\n",
       "       'cat__S_LEGAL_CONNERTON VILLAGE TWO PARCEL 2',\n",
       "       'cat__S_LEGAL_COOPER COLONY ESTATES SEC 1',\n",
       "       'cat__S_LEGAL_COUNTRY ADDRESS 102-1 B',\n",
       "       'cat__S_LEGAL_COUNTRY ESTATES UNIT 1 LOT 4 E',\n",
       "       'cat__S_LEGAL_CRESCENT RIDGE SUB LOT 33 PB 4',\n",
       "       \"cat__S_LEGAL_DEANE'S PERCY\",\n",
       "       'cat__S_LEGAL_DIMENSIONS NORTH AT CHAPEL TRA',\n",
       "       'cat__S_LEGAL_DIXIELAND PB 1 PG 67 BLK A LOT',\n",
       "       'cat__S_LEGAL_EASTBROOK SUB UNIT NO 2 W/118',\n",
       "       'cat__S_LEGAL_ELBARODA GROVE        PB 18-66',\n",
       "       'cat__S_LEGAL_FIRST ADD TO TUSKEGEE PARK',\n",
       "       'cat__S_LEGAL_FRUITLAND PARK  PARK HTS LOT 1',\n",
       "       'cat__S_LEGAL_FULFORD HOMES         PB 55-55',\n",
       "       'cat__S_LEGAL_GOLDEN ESTATES 1ST ADDITION',\n",
       "       'cat__S_LEGAL_GOLDEN GROVES UNIT 4',\n",
       "       'cat__S_LEGAL_GOLFSIDE SECTION THREE 3/143 L',\n",
       "       'cat__S_LEGAL_GOLFWOOD ESTATES UNIT NO 04',\n",
       "       'cat__S_LEGAL_GROVE PARK LOTS 2,3', 'cat__S_LEGAL_GULF GROVE',\n",
       "       'cat__S_LEGAL_HIGH VIEW TERRACE',\n",
       "       'cat__S_LEGAL_HILLDALE HEIGHTS OF BRANDON',\n",
       "       'cat__S_LEGAL_HILLSIDE UNIT NO 06',\n",
       "       'cat__S_LEGAL_HOLMBERG & MC KEES SUB 1-112 D',\n",
       "       'cat__S_LEGAL_IDLEWOOD SUB   PB 66 PG 11 LOT',\n",
       "       'cat__S_LEGAL_INDIAN FIELDS SUB LOT 15 PB 47',\n",
       "       'cat__S_LEGAL_INDIAN FIELDS SUB LOT 18 PB 47',\n",
       "       'cat__S_LEGAL_INDIAN FIELDS SUB LOT 22 PB 47',\n",
       "       'cat__S_LEGAL_INDIAN RIVER SHORES SEC A LOTS',\n",
       "       'cat__S_LEGAL_JACARANDA HEIGHTS 31-31 B',\n",
       "       'cat__S_LEGAL_KAYWOOD GARDENS',\n",
       "       'cat__S_LEGAL_KENILWORTH SHORES SECTION FIVE',\n",
       "       'cat__S_LEGAL_KENILWORTH SHORES SECTION SEVE',\n",
       "       'cat__S_LEGAL_KENNEDY HILL SUBDIVISION',\n",
       "       'cat__S_LEGAL_KINGS PLACE 1ST ADD PB 8 PG 16',\n",
       "       'cat__S_LEGAL_LA BEAU ACRES FOURTH UNIT',\n",
       "       'cat__S_LEGAL_LAGUNA BEACH 5TH ADD',\n",
       "       'cat__S_LEGAL_LAKE GLORIA SHORES 55/13 LOT 6',\n",
       "       'cat__S_LEGAL_LAKE HUNTER TERRACE HEIGHTS PB',\n",
       "       'cat__S_LEGAL_LAKE SHORE RANCH PHASE III',\n",
       "       'cat__S_LEGAL_LAKE WAUNATTA COVE 10/35 LOT 1',\n",
       "       'cat__S_LEGAL_LAKEFRONT ESTATES LOT 15 BLK 1',\n",
       "       'cat__S_LEGAL_LAKEMONT UNIT NO 4A',\n",
       "       'cat__S_LEGAL_LANGER CENTRAL HEIGHTS PB 43 P',\n",
       "       'cat__S_LEGAL_LEG  2.34 ACRES',\n",
       "       'cat__S_LEGAL_LINCOLN PARK FIRST ADD',\n",
       "       'cat__S_LEGAL_LOT 10 BLK 375 DELTONA LAKES U',\n",
       "       'cat__S_LEGAL_LOT 123', 'cat__S_LEGAL_LOT 13',\n",
       "       'cat__S_LEGAL_LOT 1346, STONEYBROOK AT VENIC',\n",
       "       'cat__S_LEGAL_LOT 137 THE VILLAGES OF SUMTER',\n",
       "       'cat__S_LEGAL_LOT 2 BLK 8 MOBILE CITY ESTATE',\n",
       "       'cat__S_LEGAL_LOT 22 BLK 14 VENICE EAST SEC',\n",
       "       'cat__S_LEGAL_LOT 22 THE VILLAGES OF SUMTER',\n",
       "       'cat__S_LEGAL_LOT 23',\n",
       "       'cat__S_LEGAL_LOT 242 THE VILLAGES OF SUMTER',\n",
       "       'cat__S_LEGAL_LOT 300', 'cat__S_LEGAL_LOT 33',\n",
       "       'cat__S_LEGAL_LOT 377 VENICE GARDENS UNIT 6',\n",
       "       'cat__S_LEGAL_LOT 39 THE VILLAGES OF SUMTER',\n",
       "       'cat__S_LEGAL_LOT 4 BLK B PINE LAKE DEVELOPM',\n",
       "       'cat__S_LEGAL_LOT 4 THE VILLAGES OF SUMTER U',\n",
       "       'cat__S_LEGAL_LOT 46 THE VILLAGES OF SUMTER',\n",
       "       'cat__S_LEGAL_LOT 486',\n",
       "       'cat__S_LEGAL_LOT 49 THE VILLAGES OF SUMTER', 'cat__S_LEGAL_LOT 6',\n",
       "       \"cat__S_LEGAL_LOT 6  BLK B  LAIRD'S  S/D\",\n",
       "       'cat__S_LEGAL_LOT 61 THE VILLAGES OF SUMTER',\n",
       "       'cat__S_LEGAL_LOT 777 VENICE GARDENS UNIT 14',\n",
       "       'cat__S_LEGAL_LOT 9 BLK 322 DELTONA LAKES UN',\n",
       "       'cat__S_LEGAL_LOT 9 BLK 370 DELTONA LAKES UN',\n",
       "       'cat__S_LEGAL_LOTS 11790 & 11791 SOUTH VENIC',\n",
       "       'cat__S_LEGAL_LOTS 13715 & 13716 SOUTH VENIC',\n",
       "       'cat__S_LEGAL_LOTS 17746 17747 & S 13 FT OF',\n",
       "       'cat__S_LEGAL_LOTS 5, 6, 19, 20, 21 & 22, BL',\n",
       "       'cat__S_LEGAL_LOTS 7948 7949 & N 1/2 OF LOT',\n",
       "       'cat__S_LEGAL_LOTS 9 & 10',\n",
       "       'cat__S_LEGAL_LT 11 BLK 6 SHERRERS S/D PB 1',\n",
       "       'cat__S_LEGAL_LT 18 BLK C BUENA VISTA S/D PB',\n",
       "       'cat__S_LEGAL_LT 2 BLK 1 OAKDALE S/D PB 1 P',\n",
       "       'cat__S_LEGAL_LT 2 BLK 109 CORDOVA PARK UNIT',\n",
       "       'cat__S_LEGAL_LT 36 BLK 5 1ST ADDN TO PEN HA',\n",
       "       'cat__S_LEGAL_LUNA HEIGHTS LOT 9 BLK 8',\n",
       "       'cat__S_LEGAL_MASCOTTE  COURTNEY PARK PHASE',\n",
       "       'cat__S_LEGAL_MCARTHURS UNRECORDED SUBD PT O',\n",
       "       'cat__S_LEGAL_MERRITT ISLAND VILLAGE LOT 9',\n",
       "       'cat__S_LEGAL_MORGAN CREEK PRESERVE PHASE ON',\n",
       "       'cat__S_LEGAL_N 1/2 OF LOT 39I ALVAREZ GRANT',\n",
       "       'cat__S_LEGAL_N 120 FT OF S 270 FT OF E 250',\n",
       "       'cat__S_LEGAL_NORTH BON AIR',\n",
       "       'cat__S_LEGAL_NORTH POMPANO BEACH SEC A',\n",
       "       'cat__S_LEGAL_NORTHWEST PARK UNIT NO 1',\n",
       "       'cat__S_LEGAL_OAKS AT VALRICO',\n",
       "       'cat__S_LEGAL_ORANGE BLOSSOM TERRACE FIRST A',\n",
       "       'cat__S_LEGAL_ORANGE BLOSSOM TERRACE R/144 L',\n",
       "       'cat__S_LEGAL_PARK PLAZA 48-39 B',\n",
       "       'cat__S_LEGAL_PART OF LOT 3 & PT OF NW 1/4 O',\n",
       "       'cat__S_LEGAL_PART OF S 1/2 OF NE 1/4 AS DES',\n",
       "       'cat__S_LEGAL_PASADENA ESTATES SEC H',\n",
       "       'cat__S_LEGAL_PINEWOOD PARK SUB PB 8 PG 31 B',\n",
       "       'cat__S_LEGAL_PINEWOOD VILLAS LOT 12 BLK A',\n",
       "       'cat__S_LEGAL_PIPKIN VILLAGE PB 97 PG 42 LOT',\n",
       "       'cat__S_LEGAL_PLANTATION OAKS OF BREVARD PHA',\n",
       "       'cat__S_LEGAL_PORT ST LUCIE-SEC 19- BLK 1930',\n",
       "       'cat__S_LEGAL_PORT ST LUCIE-SECTION 12- BLK',\n",
       "       'cat__S_LEGAL_PORT ST LUCIE-SECTION 13- BLK',\n",
       "       'cat__S_LEGAL_PORT ST LUCIE-SECTION 17- BLK',\n",
       "       'cat__S_LEGAL_PORT ST LUCIE-SECTION 18- BLK',\n",
       "       'cat__S_LEGAL_PORT ST LUCIE-SECTION 25- BLK',\n",
       "       'cat__S_LEGAL_PT OF LOT 10(S-2) & ALL LOT 13',\n",
       "       'cat__S_LEGAL_PT OF SE1/4 OF NE1/4 OF',\n",
       "       'cat__S_LEGAL_PT SW1/4 OF NW1/4',\n",
       "       'cat__S_LEGAL_RIDGE MANOR ESTATES LOT 36 BLK',\n",
       "       'cat__S_LEGAL_RIVERSIDE NORTH',\n",
       "       'cat__S_LEGAL_RIVERSIDE PARK ADD AMEN PLAT',\n",
       "       'cat__S_LEGAL_ROCK CREEK PHASE TWO 104-34 B',\n",
       "       'cat__S_LEGAL_ROGERS-SCOTT SUB', 'cat__S_LEGAL_ROSE MANOR 42-16 B',\n",
       "       'cat__S_LEGAL_ROSE RIDGE', 'cat__S_LEGAL_ROSEDALE NORTH',\n",
       "       'cat__S_LEGAL_SCOTTSMOOR LOTS 24,25,26 BLK 6',\n",
       "       'cat__S_LEGAL_SEA GATE N 1/2 OF LOT 28',\n",
       "       'cat__S_LEGAL_SECTORS 3 & 4 BOUNDARY PLAT',\n",
       "       'cat__S_LEGAL_SEMINOLE GROVE ESTATES',\n",
       "       'cat__S_LEGAL_SEMINOLE MANOR',\n",
       "       'cat__S_LEGAL_SEMINOLE MANOR 2ND ADD',\n",
       "       'cat__S_LEGAL_SEMINOLE RIDGE 1ST ADD',\n",
       "       'cat__S_LEGAL_SIEBERS COVE 172-174 B',\n",
       "       'cat__S_LEGAL_SOUTH LAKEMONT SHORES U/70 LOT',\n",
       "       'cat__S_LEGAL_SOUTH POINTE UNIT 2 16/66 LOT',\n",
       "       'cat__S_LEGAL_SOUTH POINTE UNIT 4 25/28 LOT',\n",
       "       'cat__S_LEGAL_SOUTHGATE FIFTH ADD 53-8 B',\n",
       "       'cat__S_LEGAL_SPRING HILL UNIT 10',\n",
       "       'cat__S_LEGAL_SPRING HILL UNIT 9', 'cat__S_LEGAL_SUN GLOW SUB',\n",
       "       'cat__S_LEGAL_SUN RAY HOMES GREYNOLDS PK SEC',\n",
       "       'cat__S_LEGAL_SUNRISE GOLF VILLAGE',\n",
       "       'cat__S_LEGAL_SUNRISE GOLF VILLAGE SEC 26',\n",
       "       'cat__S_LEGAL_SUNSET LAKES PLAT THREE',\n",
       "       \"cat__S_LEGAL_TANGERINE GARDENS, ROE'S\", 'cat__S_LEGAL_THE GLADES',\n",
       "       'cat__S_LEGAL_TIMBERLANE SUBDIVISION UNIT NO',\n",
       "       'cat__S_LEGAL_TITUSVILLAGE SEC III LOT 12',\n",
       "       \"cat__S_LEGAL_TOWN'N COUNTRY PARK UNIT NO 01\",\n",
       "       \"cat__S_LEGAL_TOWN'N COUNTRY PARK UNIT NO 04\",\n",
       "       'cat__S_LEGAL_TOWNE PARK ESTATES PHASE 1-A P',\n",
       "       'cat__S_LEGAL_TRINITY WEST PB 45 PG 135 LOT',\n",
       "       'cat__S_LEGAL_VENETIAN ISLES 3RD SEC 47-13 B',\n",
       "       'cat__S_LEGAL_VOLUNTEER HEIGHTS PB 7 PG 49 B',\n",
       "       'cat__S_LEGAL_W 145 FT OF S 30 FT OF LOT 17',\n",
       "       'cat__S_LEGAL_W 330 FT OF SW 1/4 OF SW 1/4 O',\n",
       "       'cat__S_LEGAL_WELLSWOOD SECTION A',\n",
       "       'cat__S_LEGAL_WEST TAMPA HEIGHTS',\n",
       "       'cat__S_LEGAL_WESTFORK I PLAT 150-43 B',\n",
       "       'cat__S_LEGAL_WHITE ACRES SUBD REPLAT LOT 7',\n",
       "       'cat__S_LEGAL_WINTER PARK PINES UNIT 6 Z/144', 'cat__IMP_QUAL_1',\n",
       "       'cat__IMP_QUAL_2', 'cat__IMP_QUAL_3', 'cat__IMP_QUAL_4',\n",
       "       'cat__IMP_QUAL_5', 'cat__IMP_QUAL_6', 'cat__CONST_CLASS_0',\n",
       "       'cat__CONST_CLASS_1', 'cat__CONST_CLASS_2', 'cat__CONST_CLASS_3',\n",
       "       'cat__CONST_CLASS_4', 'cat__CONST_CLASS_5'], dtype=object)"
      ]
     },
     "execution_count": 25,
     "metadata": {},
     "output_type": "execute_result"
    }
   ],
   "source": [
    "#Retrieving the column names:\n",
    "preprocessor.get_feature_names_out()"
   ]
  },
  {
   "cell_type": "code",
   "execution_count": 26,
   "metadata": {},
   "outputs": [
    {
     "data": {
      "text/plain": [
       "'1.1.2'"
      ]
     },
     "execution_count": 26,
     "metadata": {},
     "output_type": "execute_result"
    }
   ],
   "source": [
    "# Check if your scikit-learn version is below 1.1.1\n",
    "\n",
    "import sklearn\n",
    "\n",
    "sklearn.__version__"
   ]
  },
  {
   "cell_type": "code",
   "execution_count": 27,
   "metadata": {},
   "outputs": [
    {
     "data": {
      "text/plain": [
       "array(['num__EFF_AGE', 'num__ACT_AGE', 'num__LND_SQFOOT',\n",
       "       'num__TOT_LVG_AREA', 'num__JV', 'num__LND_VAL', 'num__NO_BULDNG',\n",
       "       'num__NCONST_VAL', 'num__DEL_VAL', 'num__SPEC_FEAT_VAL',\n",
       "       'num__MonthDifference', 'num__SALE_PRC1',\n",
       "       'cat__S_LEGAL_10-15 52 42', 'cat__S_LEGAL_18-13    05-3S-26E',\n",
       "       'cat__S_LEGAL_19-50    01-3S-26E  .186',\n",
       "       'cat__S_LEGAL_2-24     56-2S-26E',\n",
       "       'cat__S_LEGAL_3-79     59-2S-26E  .78',\n",
       "       'cat__S_LEGAL_30-64    13-2S-25E',\n",
       "       'cat__S_LEGAL_31-75    14-3S-25E',\n",
       "       'cat__S_LEGAL_33 5 13 ORB 1161 P 905', 'cat__S_LEGAL_33-48-42',\n",
       "       'cat__S_LEGAL_34 6S 22', 'cat__S_LEGAL_56-76    23-1N-27E  .42',\n",
       "       'cat__S_LEGAL_61-107   35-1N-27E  .20',\n",
       "       'cat__S_LEGAL_ALBERT PARK ADD PB 3 PG 25 BLK',\n",
       "       'cat__S_LEGAL_ALOMA ESTATES 12/28 LOT 52',\n",
       "       'cat__S_LEGAL_ARLINGTON HEIGHTS',\n",
       "       'cat__S_LEGAL_BARNA PLACE E 56.49 FT OF LOT',\n",
       "       'cat__S_LEGAL_BARRINGTON ESTATES PHASE 1 SUB',\n",
       "       'cat__S_LEGAL_BAY CREST PARK UNIT NO 12',\n",
       "       'cat__S_LEGAL_BAY CREST PARK UNIT NO 21',\n",
       "       'cat__S_LEGAL_BEACON HEIGHTS 42-34 B',\n",
       "       'cat__S_LEGAL_BEACON SQUARE UNIT 10-A PB 9 P',\n",
       "       'cat__S_LEGAL_BEACON SQUARE UNIT 11-B PB 9 P',\n",
       "       'cat__S_LEGAL_BEACON SQUARE UNIT 14-C PB 9 P',\n",
       "       'cat__S_LEGAL_BEACON SQUARE UNIT 21-B PB 11',\n",
       "       'cat__S_LEGAL_BEG AT SW COR TRACT 74 TH N 89',\n",
       "       'cat__S_LEGAL_BEL AIRE PINES UNIT 2 9/133 LO',\n",
       "       'cat__S_LEGAL_BELVEDERE PARK', 'cat__S_LEGAL_BEVIS SUBD LOT 8',\n",
       "       'cat__S_LEGAL_BONNIE BROOK UNIT 1 2/122 LOT',\n",
       "       'cat__S_LEGAL_BRANDON GROVES SECTION ONE',\n",
       "       'cat__S_LEGAL_BROADMOOR PARK REVISED PLAT',\n",
       "       'cat__S_LEGAL_BROOKSHIRE HEIGHTS 4TH ADDITIO',\n",
       "       'cat__S_LEGAL_BUFFALO HEIGHTS',\n",
       "       'cat__S_LEGAL_CAMPHOR HGHTS UNIT NO 2 PB 34',\n",
       "       'cat__S_LEGAL_CARIBBEAN ISLES UNIT 2 LOT 18',\n",
       "       'cat__S_LEGAL_CATALINA ISLE ESTATES UNIT 2 L',\n",
       "       'cat__S_LEGAL_CATALINA ISLE ESTATES UNIT 6 L',\n",
       "       'cat__S_LEGAL_CHAPEL TRAIL II 112-16 B',\n",
       "       'cat__S_LEGAL_CHELSEA OAKS PHASE TWO  PB 154',\n",
       "       'cat__S_LEGAL_CIRCLE PARK S 24.08 FT OF N 13',\n",
       "       'cat__S_LEGAL_CONNERTON VILLAGE TWO PARCEL 2',\n",
       "       'cat__S_LEGAL_COOPER COLONY ESTATES SEC 1',\n",
       "       'cat__S_LEGAL_COUNTRY ADDRESS 102-1 B',\n",
       "       'cat__S_LEGAL_COUNTRY ESTATES UNIT 1 LOT 4 E',\n",
       "       'cat__S_LEGAL_CRESCENT RIDGE SUB LOT 33 PB 4',\n",
       "       \"cat__S_LEGAL_DEANE'S PERCY\",\n",
       "       'cat__S_LEGAL_DIMENSIONS NORTH AT CHAPEL TRA',\n",
       "       'cat__S_LEGAL_DIXIELAND PB 1 PG 67 BLK A LOT',\n",
       "       'cat__S_LEGAL_EASTBROOK SUB UNIT NO 2 W/118',\n",
       "       'cat__S_LEGAL_ELBARODA GROVE        PB 18-66',\n",
       "       'cat__S_LEGAL_FIRST ADD TO TUSKEGEE PARK',\n",
       "       'cat__S_LEGAL_FRUITLAND PARK  PARK HTS LOT 1',\n",
       "       'cat__S_LEGAL_FULFORD HOMES         PB 55-55',\n",
       "       'cat__S_LEGAL_GOLDEN ESTATES 1ST ADDITION',\n",
       "       'cat__S_LEGAL_GOLDEN GROVES UNIT 4',\n",
       "       'cat__S_LEGAL_GOLFSIDE SECTION THREE 3/143 L',\n",
       "       'cat__S_LEGAL_GOLFWOOD ESTATES UNIT NO 04',\n",
       "       'cat__S_LEGAL_GROVE PARK LOTS 2,3', 'cat__S_LEGAL_GULF GROVE',\n",
       "       'cat__S_LEGAL_HIGH VIEW TERRACE',\n",
       "       'cat__S_LEGAL_HILLDALE HEIGHTS OF BRANDON',\n",
       "       'cat__S_LEGAL_HILLSIDE UNIT NO 06',\n",
       "       'cat__S_LEGAL_HOLMBERG & MC KEES SUB 1-112 D',\n",
       "       'cat__S_LEGAL_IDLEWOOD SUB   PB 66 PG 11 LOT',\n",
       "       'cat__S_LEGAL_INDIAN FIELDS SUB LOT 15 PB 47',\n",
       "       'cat__S_LEGAL_INDIAN FIELDS SUB LOT 18 PB 47',\n",
       "       'cat__S_LEGAL_INDIAN FIELDS SUB LOT 22 PB 47',\n",
       "       'cat__S_LEGAL_INDIAN RIVER SHORES SEC A LOTS',\n",
       "       'cat__S_LEGAL_JACARANDA HEIGHTS 31-31 B',\n",
       "       'cat__S_LEGAL_KAYWOOD GARDENS',\n",
       "       'cat__S_LEGAL_KENILWORTH SHORES SECTION FIVE',\n",
       "       'cat__S_LEGAL_KENILWORTH SHORES SECTION SEVE',\n",
       "       'cat__S_LEGAL_KENNEDY HILL SUBDIVISION',\n",
       "       'cat__S_LEGAL_KINGS PLACE 1ST ADD PB 8 PG 16',\n",
       "       'cat__S_LEGAL_LA BEAU ACRES FOURTH UNIT',\n",
       "       'cat__S_LEGAL_LAGUNA BEACH 5TH ADD',\n",
       "       'cat__S_LEGAL_LAKE GLORIA SHORES 55/13 LOT 6',\n",
       "       'cat__S_LEGAL_LAKE HUNTER TERRACE HEIGHTS PB',\n",
       "       'cat__S_LEGAL_LAKE SHORE RANCH PHASE III',\n",
       "       'cat__S_LEGAL_LAKE WAUNATTA COVE 10/35 LOT 1',\n",
       "       'cat__S_LEGAL_LAKEFRONT ESTATES LOT 15 BLK 1',\n",
       "       'cat__S_LEGAL_LAKEMONT UNIT NO 4A',\n",
       "       'cat__S_LEGAL_LANGER CENTRAL HEIGHTS PB 43 P',\n",
       "       'cat__S_LEGAL_LEG  2.34 ACRES',\n",
       "       'cat__S_LEGAL_LINCOLN PARK FIRST ADD',\n",
       "       'cat__S_LEGAL_LOT 10 BLK 375 DELTONA LAKES U',\n",
       "       'cat__S_LEGAL_LOT 123', 'cat__S_LEGAL_LOT 13',\n",
       "       'cat__S_LEGAL_LOT 1346, STONEYBROOK AT VENIC',\n",
       "       'cat__S_LEGAL_LOT 137 THE VILLAGES OF SUMTER',\n",
       "       'cat__S_LEGAL_LOT 2 BLK 8 MOBILE CITY ESTATE',\n",
       "       'cat__S_LEGAL_LOT 22 BLK 14 VENICE EAST SEC',\n",
       "       'cat__S_LEGAL_LOT 22 THE VILLAGES OF SUMTER',\n",
       "       'cat__S_LEGAL_LOT 23',\n",
       "       'cat__S_LEGAL_LOT 242 THE VILLAGES OF SUMTER',\n",
       "       'cat__S_LEGAL_LOT 300', 'cat__S_LEGAL_LOT 33',\n",
       "       'cat__S_LEGAL_LOT 377 VENICE GARDENS UNIT 6',\n",
       "       'cat__S_LEGAL_LOT 39 THE VILLAGES OF SUMTER',\n",
       "       'cat__S_LEGAL_LOT 4 BLK B PINE LAKE DEVELOPM',\n",
       "       'cat__S_LEGAL_LOT 4 THE VILLAGES OF SUMTER U',\n",
       "       'cat__S_LEGAL_LOT 46 THE VILLAGES OF SUMTER',\n",
       "       'cat__S_LEGAL_LOT 486',\n",
       "       'cat__S_LEGAL_LOT 49 THE VILLAGES OF SUMTER', 'cat__S_LEGAL_LOT 6',\n",
       "       \"cat__S_LEGAL_LOT 6  BLK B  LAIRD'S  S/D\",\n",
       "       'cat__S_LEGAL_LOT 61 THE VILLAGES OF SUMTER',\n",
       "       'cat__S_LEGAL_LOT 777 VENICE GARDENS UNIT 14',\n",
       "       'cat__S_LEGAL_LOT 9 BLK 322 DELTONA LAKES UN',\n",
       "       'cat__S_LEGAL_LOT 9 BLK 370 DELTONA LAKES UN',\n",
       "       'cat__S_LEGAL_LOTS 11790 & 11791 SOUTH VENIC',\n",
       "       'cat__S_LEGAL_LOTS 13715 & 13716 SOUTH VENIC',\n",
       "       'cat__S_LEGAL_LOTS 17746 17747 & S 13 FT OF',\n",
       "       'cat__S_LEGAL_LOTS 5, 6, 19, 20, 21 & 22, BL',\n",
       "       'cat__S_LEGAL_LOTS 7948 7949 & N 1/2 OF LOT',\n",
       "       'cat__S_LEGAL_LOTS 9 & 10',\n",
       "       'cat__S_LEGAL_LT 11 BLK 6 SHERRERS S/D PB 1',\n",
       "       'cat__S_LEGAL_LT 18 BLK C BUENA VISTA S/D PB',\n",
       "       'cat__S_LEGAL_LT 2 BLK 1 OAKDALE S/D PB 1 P',\n",
       "       'cat__S_LEGAL_LT 2 BLK 109 CORDOVA PARK UNIT',\n",
       "       'cat__S_LEGAL_LT 36 BLK 5 1ST ADDN TO PEN HA',\n",
       "       'cat__S_LEGAL_LUNA HEIGHTS LOT 9 BLK 8',\n",
       "       'cat__S_LEGAL_MASCOTTE  COURTNEY PARK PHASE',\n",
       "       'cat__S_LEGAL_MCARTHURS UNRECORDED SUBD PT O',\n",
       "       'cat__S_LEGAL_MERRITT ISLAND VILLAGE LOT 9',\n",
       "       'cat__S_LEGAL_MORGAN CREEK PRESERVE PHASE ON',\n",
       "       'cat__S_LEGAL_N 1/2 OF LOT 39I ALVAREZ GRANT',\n",
       "       'cat__S_LEGAL_N 120 FT OF S 270 FT OF E 250',\n",
       "       'cat__S_LEGAL_NORTH BON AIR',\n",
       "       'cat__S_LEGAL_NORTH POMPANO BEACH SEC A',\n",
       "       'cat__S_LEGAL_NORTHWEST PARK UNIT NO 1',\n",
       "       'cat__S_LEGAL_OAKS AT VALRICO',\n",
       "       'cat__S_LEGAL_ORANGE BLOSSOM TERRACE FIRST A',\n",
       "       'cat__S_LEGAL_ORANGE BLOSSOM TERRACE R/144 L',\n",
       "       'cat__S_LEGAL_PARK PLAZA 48-39 B',\n",
       "       'cat__S_LEGAL_PART OF LOT 3 & PT OF NW 1/4 O',\n",
       "       'cat__S_LEGAL_PART OF S 1/2 OF NE 1/4 AS DES',\n",
       "       'cat__S_LEGAL_PASADENA ESTATES SEC H',\n",
       "       'cat__S_LEGAL_PINEWOOD PARK SUB PB 8 PG 31 B',\n",
       "       'cat__S_LEGAL_PINEWOOD VILLAS LOT 12 BLK A',\n",
       "       'cat__S_LEGAL_PIPKIN VILLAGE PB 97 PG 42 LOT',\n",
       "       'cat__S_LEGAL_PLANTATION OAKS OF BREVARD PHA',\n",
       "       'cat__S_LEGAL_PORT ST LUCIE-SEC 19- BLK 1930',\n",
       "       'cat__S_LEGAL_PORT ST LUCIE-SECTION 12- BLK',\n",
       "       'cat__S_LEGAL_PORT ST LUCIE-SECTION 13- BLK',\n",
       "       'cat__S_LEGAL_PORT ST LUCIE-SECTION 17- BLK',\n",
       "       'cat__S_LEGAL_PORT ST LUCIE-SECTION 18- BLK',\n",
       "       'cat__S_LEGAL_PORT ST LUCIE-SECTION 25- BLK',\n",
       "       'cat__S_LEGAL_PT OF LOT 10(S-2) & ALL LOT 13',\n",
       "       'cat__S_LEGAL_PT OF SE1/4 OF NE1/4 OF',\n",
       "       'cat__S_LEGAL_PT SW1/4 OF NW1/4',\n",
       "       'cat__S_LEGAL_RIDGE MANOR ESTATES LOT 36 BLK',\n",
       "       'cat__S_LEGAL_RIVERSIDE NORTH',\n",
       "       'cat__S_LEGAL_RIVERSIDE PARK ADD AMEN PLAT',\n",
       "       'cat__S_LEGAL_ROCK CREEK PHASE TWO 104-34 B',\n",
       "       'cat__S_LEGAL_ROGERS-SCOTT SUB', 'cat__S_LEGAL_ROSE MANOR 42-16 B',\n",
       "       'cat__S_LEGAL_ROSE RIDGE', 'cat__S_LEGAL_ROSEDALE NORTH',\n",
       "       'cat__S_LEGAL_SCOTTSMOOR LOTS 24,25,26 BLK 6',\n",
       "       'cat__S_LEGAL_SEA GATE N 1/2 OF LOT 28',\n",
       "       'cat__S_LEGAL_SECTORS 3 & 4 BOUNDARY PLAT',\n",
       "       'cat__S_LEGAL_SEMINOLE GROVE ESTATES',\n",
       "       'cat__S_LEGAL_SEMINOLE MANOR',\n",
       "       'cat__S_LEGAL_SEMINOLE MANOR 2ND ADD',\n",
       "       'cat__S_LEGAL_SEMINOLE RIDGE 1ST ADD',\n",
       "       'cat__S_LEGAL_SIEBERS COVE 172-174 B',\n",
       "       'cat__S_LEGAL_SOUTH LAKEMONT SHORES U/70 LOT',\n",
       "       'cat__S_LEGAL_SOUTH POINTE UNIT 2 16/66 LOT',\n",
       "       'cat__S_LEGAL_SOUTH POINTE UNIT 4 25/28 LOT',\n",
       "       'cat__S_LEGAL_SOUTHGATE FIFTH ADD 53-8 B',\n",
       "       'cat__S_LEGAL_SPRING HILL UNIT 10',\n",
       "       'cat__S_LEGAL_SPRING HILL UNIT 9', 'cat__S_LEGAL_SUN GLOW SUB',\n",
       "       'cat__S_LEGAL_SUN RAY HOMES GREYNOLDS PK SEC',\n",
       "       'cat__S_LEGAL_SUNRISE GOLF VILLAGE',\n",
       "       'cat__S_LEGAL_SUNRISE GOLF VILLAGE SEC 26',\n",
       "       'cat__S_LEGAL_SUNSET LAKES PLAT THREE',\n",
       "       \"cat__S_LEGAL_TANGERINE GARDENS, ROE'S\", 'cat__S_LEGAL_THE GLADES',\n",
       "       'cat__S_LEGAL_TIMBERLANE SUBDIVISION UNIT NO',\n",
       "       'cat__S_LEGAL_TITUSVILLAGE SEC III LOT 12',\n",
       "       \"cat__S_LEGAL_TOWN'N COUNTRY PARK UNIT NO 01\",\n",
       "       \"cat__S_LEGAL_TOWN'N COUNTRY PARK UNIT NO 04\",\n",
       "       'cat__S_LEGAL_TOWNE PARK ESTATES PHASE 1-A P',\n",
       "       'cat__S_LEGAL_TRINITY WEST PB 45 PG 135 LOT',\n",
       "       'cat__S_LEGAL_VENETIAN ISLES 3RD SEC 47-13 B',\n",
       "       'cat__S_LEGAL_VOLUNTEER HEIGHTS PB 7 PG 49 B',\n",
       "       'cat__S_LEGAL_W 145 FT OF S 30 FT OF LOT 17',\n",
       "       'cat__S_LEGAL_W 330 FT OF SW 1/4 OF SW 1/4 O',\n",
       "       'cat__S_LEGAL_WELLSWOOD SECTION A',\n",
       "       'cat__S_LEGAL_WEST TAMPA HEIGHTS',\n",
       "       'cat__S_LEGAL_WESTFORK I PLAT 150-43 B',\n",
       "       'cat__S_LEGAL_WHITE ACRES SUBD REPLAT LOT 7',\n",
       "       'cat__S_LEGAL_WINTER PARK PINES UNIT 6 Z/144', 'cat__IMP_QUAL_1',\n",
       "       'cat__IMP_QUAL_2', 'cat__IMP_QUAL_3', 'cat__IMP_QUAL_4',\n",
       "       'cat__IMP_QUAL_5', 'cat__IMP_QUAL_6', 'cat__CONST_CLASS_0',\n",
       "       'cat__CONST_CLASS_1', 'cat__CONST_CLASS_2', 'cat__CONST_CLASS_3',\n",
       "       'cat__CONST_CLASS_4', 'cat__CONST_CLASS_5'], dtype=object)"
      ]
     },
     "execution_count": 27,
     "metadata": {},
     "output_type": "execute_result"
    }
   ],
   "source": [
    "# Now we can retrieve the column names:\n",
    "\n",
    "preprocessor.get_feature_names_out()"
   ]
  },
  {
   "cell_type": "code",
   "execution_count": 28,
   "metadata": {},
   "outputs": [],
   "source": [
    "from scipy.sparse import csr_matrix"
   ]
  },
  {
   "cell_type": "code",
   "execution_count": 29,
   "metadata": {},
   "outputs": [],
   "source": [
    "train_x1 = pd.DataFrame.sparse.from_spmatrix(train_x)\n",
    "test_x1 = pd.DataFrame.sparse.from_spmatrix(test_x)"
   ]
  },
  {
   "cell_type": "code",
   "execution_count": 30,
   "metadata": {},
   "outputs": [
    {
     "data": {
      "text/plain": [
       "(pandas.core.frame.DataFrame, pandas.core.frame.DataFrame)"
      ]
     },
     "execution_count": 30,
     "metadata": {},
     "output_type": "execute_result"
    }
   ],
   "source": [
    "type(train_x1), type(test_x1)\n"
   ]
  },
  {
   "cell_type": "code",
   "execution_count": 31,
   "metadata": {},
   "outputs": [
    {
     "data": {
      "text/plain": [
       "((210, 219), (90, 219))"
      ]
     },
     "execution_count": 31,
     "metadata": {},
     "output_type": "execute_result"
    }
   ],
   "source": [
    "train_x1.shape, test_x1.shape"
   ]
  },
  {
   "cell_type": "code",
   "execution_count": 32,
   "metadata": {},
   "outputs": [
    {
     "data": {
      "text/html": [
       "<div>\n",
       "<style scoped>\n",
       "    .dataframe tbody tr th:only-of-type {\n",
       "        vertical-align: middle;\n",
       "    }\n",
       "\n",
       "    .dataframe tbody tr th {\n",
       "        vertical-align: top;\n",
       "    }\n",
       "\n",
       "    .dataframe thead th {\n",
       "        text-align: right;\n",
       "    }\n",
       "</style>\n",
       "<table border=\"1\" class=\"dataframe\">\n",
       "  <thead>\n",
       "    <tr style=\"text-align: right;\">\n",
       "      <th></th>\n",
       "      <th>num__EFF_AGE</th>\n",
       "      <th>num__ACT_AGE</th>\n",
       "      <th>num__LND_SQFOOT</th>\n",
       "      <th>num__TOT_LVG_AREA</th>\n",
       "      <th>num__JV</th>\n",
       "      <th>num__LND_VAL</th>\n",
       "      <th>num__NO_BULDNG</th>\n",
       "      <th>num__NCONST_VAL</th>\n",
       "      <th>num__DEL_VAL</th>\n",
       "      <th>num__SPEC_FEAT_VAL</th>\n",
       "      <th>...</th>\n",
       "      <th>cat__IMP_QUAL_3</th>\n",
       "      <th>cat__IMP_QUAL_4</th>\n",
       "      <th>cat__IMP_QUAL_5</th>\n",
       "      <th>cat__IMP_QUAL_6</th>\n",
       "      <th>cat__CONST_CLASS_0</th>\n",
       "      <th>cat__CONST_CLASS_1</th>\n",
       "      <th>cat__CONST_CLASS_2</th>\n",
       "      <th>cat__CONST_CLASS_3</th>\n",
       "      <th>cat__CONST_CLASS_4</th>\n",
       "      <th>cat__CONST_CLASS_5</th>\n",
       "    </tr>\n",
       "  </thead>\n",
       "  <tbody>\n",
       "    <tr>\n",
       "      <th>0</th>\n",
       "      <td>NaN</td>\n",
       "      <td>NaN</td>\n",
       "      <td>NaN</td>\n",
       "      <td>NaN</td>\n",
       "      <td>NaN</td>\n",
       "      <td>NaN</td>\n",
       "      <td>NaN</td>\n",
       "      <td>NaN</td>\n",
       "      <td>NaN</td>\n",
       "      <td>NaN</td>\n",
       "      <td>...</td>\n",
       "      <td>NaN</td>\n",
       "      <td>NaN</td>\n",
       "      <td>NaN</td>\n",
       "      <td>NaN</td>\n",
       "      <td>NaN</td>\n",
       "      <td>NaN</td>\n",
       "      <td>NaN</td>\n",
       "      <td>NaN</td>\n",
       "      <td>NaN</td>\n",
       "      <td>NaN</td>\n",
       "    </tr>\n",
       "    <tr>\n",
       "      <th>1</th>\n",
       "      <td>NaN</td>\n",
       "      <td>NaN</td>\n",
       "      <td>NaN</td>\n",
       "      <td>NaN</td>\n",
       "      <td>NaN</td>\n",
       "      <td>NaN</td>\n",
       "      <td>NaN</td>\n",
       "      <td>NaN</td>\n",
       "      <td>NaN</td>\n",
       "      <td>NaN</td>\n",
       "      <td>...</td>\n",
       "      <td>NaN</td>\n",
       "      <td>NaN</td>\n",
       "      <td>NaN</td>\n",
       "      <td>NaN</td>\n",
       "      <td>NaN</td>\n",
       "      <td>NaN</td>\n",
       "      <td>NaN</td>\n",
       "      <td>NaN</td>\n",
       "      <td>NaN</td>\n",
       "      <td>NaN</td>\n",
       "    </tr>\n",
       "    <tr>\n",
       "      <th>2</th>\n",
       "      <td>NaN</td>\n",
       "      <td>NaN</td>\n",
       "      <td>NaN</td>\n",
       "      <td>NaN</td>\n",
       "      <td>NaN</td>\n",
       "      <td>NaN</td>\n",
       "      <td>NaN</td>\n",
       "      <td>NaN</td>\n",
       "      <td>NaN</td>\n",
       "      <td>NaN</td>\n",
       "      <td>...</td>\n",
       "      <td>NaN</td>\n",
       "      <td>NaN</td>\n",
       "      <td>NaN</td>\n",
       "      <td>NaN</td>\n",
       "      <td>NaN</td>\n",
       "      <td>NaN</td>\n",
       "      <td>NaN</td>\n",
       "      <td>NaN</td>\n",
       "      <td>NaN</td>\n",
       "      <td>NaN</td>\n",
       "    </tr>\n",
       "    <tr>\n",
       "      <th>3</th>\n",
       "      <td>NaN</td>\n",
       "      <td>NaN</td>\n",
       "      <td>NaN</td>\n",
       "      <td>NaN</td>\n",
       "      <td>NaN</td>\n",
       "      <td>NaN</td>\n",
       "      <td>NaN</td>\n",
       "      <td>NaN</td>\n",
       "      <td>NaN</td>\n",
       "      <td>NaN</td>\n",
       "      <td>...</td>\n",
       "      <td>NaN</td>\n",
       "      <td>NaN</td>\n",
       "      <td>NaN</td>\n",
       "      <td>NaN</td>\n",
       "      <td>NaN</td>\n",
       "      <td>NaN</td>\n",
       "      <td>NaN</td>\n",
       "      <td>NaN</td>\n",
       "      <td>NaN</td>\n",
       "      <td>NaN</td>\n",
       "    </tr>\n",
       "    <tr>\n",
       "      <th>4</th>\n",
       "      <td>NaN</td>\n",
       "      <td>NaN</td>\n",
       "      <td>NaN</td>\n",
       "      <td>NaN</td>\n",
       "      <td>NaN</td>\n",
       "      <td>NaN</td>\n",
       "      <td>NaN</td>\n",
       "      <td>NaN</td>\n",
       "      <td>NaN</td>\n",
       "      <td>NaN</td>\n",
       "      <td>...</td>\n",
       "      <td>NaN</td>\n",
       "      <td>NaN</td>\n",
       "      <td>NaN</td>\n",
       "      <td>NaN</td>\n",
       "      <td>NaN</td>\n",
       "      <td>NaN</td>\n",
       "      <td>NaN</td>\n",
       "      <td>NaN</td>\n",
       "      <td>NaN</td>\n",
       "      <td>NaN</td>\n",
       "    </tr>\n",
       "    <tr>\n",
       "      <th>...</th>\n",
       "      <td>...</td>\n",
       "      <td>...</td>\n",
       "      <td>...</td>\n",
       "      <td>...</td>\n",
       "      <td>...</td>\n",
       "      <td>...</td>\n",
       "      <td>...</td>\n",
       "      <td>...</td>\n",
       "      <td>...</td>\n",
       "      <td>...</td>\n",
       "      <td>...</td>\n",
       "      <td>...</td>\n",
       "      <td>...</td>\n",
       "      <td>...</td>\n",
       "      <td>...</td>\n",
       "      <td>...</td>\n",
       "      <td>...</td>\n",
       "      <td>...</td>\n",
       "      <td>...</td>\n",
       "      <td>...</td>\n",
       "      <td>...</td>\n",
       "    </tr>\n",
       "    <tr>\n",
       "      <th>205</th>\n",
       "      <td>NaN</td>\n",
       "      <td>NaN</td>\n",
       "      <td>NaN</td>\n",
       "      <td>NaN</td>\n",
       "      <td>NaN</td>\n",
       "      <td>NaN</td>\n",
       "      <td>NaN</td>\n",
       "      <td>NaN</td>\n",
       "      <td>NaN</td>\n",
       "      <td>NaN</td>\n",
       "      <td>...</td>\n",
       "      <td>NaN</td>\n",
       "      <td>NaN</td>\n",
       "      <td>NaN</td>\n",
       "      <td>NaN</td>\n",
       "      <td>NaN</td>\n",
       "      <td>NaN</td>\n",
       "      <td>NaN</td>\n",
       "      <td>NaN</td>\n",
       "      <td>NaN</td>\n",
       "      <td>NaN</td>\n",
       "    </tr>\n",
       "    <tr>\n",
       "      <th>206</th>\n",
       "      <td>NaN</td>\n",
       "      <td>NaN</td>\n",
       "      <td>NaN</td>\n",
       "      <td>NaN</td>\n",
       "      <td>NaN</td>\n",
       "      <td>NaN</td>\n",
       "      <td>NaN</td>\n",
       "      <td>NaN</td>\n",
       "      <td>NaN</td>\n",
       "      <td>NaN</td>\n",
       "      <td>...</td>\n",
       "      <td>NaN</td>\n",
       "      <td>NaN</td>\n",
       "      <td>NaN</td>\n",
       "      <td>NaN</td>\n",
       "      <td>NaN</td>\n",
       "      <td>NaN</td>\n",
       "      <td>NaN</td>\n",
       "      <td>NaN</td>\n",
       "      <td>NaN</td>\n",
       "      <td>NaN</td>\n",
       "    </tr>\n",
       "    <tr>\n",
       "      <th>207</th>\n",
       "      <td>NaN</td>\n",
       "      <td>NaN</td>\n",
       "      <td>NaN</td>\n",
       "      <td>NaN</td>\n",
       "      <td>NaN</td>\n",
       "      <td>NaN</td>\n",
       "      <td>NaN</td>\n",
       "      <td>NaN</td>\n",
       "      <td>NaN</td>\n",
       "      <td>NaN</td>\n",
       "      <td>...</td>\n",
       "      <td>NaN</td>\n",
       "      <td>NaN</td>\n",
       "      <td>NaN</td>\n",
       "      <td>NaN</td>\n",
       "      <td>NaN</td>\n",
       "      <td>NaN</td>\n",
       "      <td>NaN</td>\n",
       "      <td>NaN</td>\n",
       "      <td>NaN</td>\n",
       "      <td>NaN</td>\n",
       "    </tr>\n",
       "    <tr>\n",
       "      <th>208</th>\n",
       "      <td>NaN</td>\n",
       "      <td>NaN</td>\n",
       "      <td>NaN</td>\n",
       "      <td>NaN</td>\n",
       "      <td>NaN</td>\n",
       "      <td>NaN</td>\n",
       "      <td>NaN</td>\n",
       "      <td>NaN</td>\n",
       "      <td>NaN</td>\n",
       "      <td>NaN</td>\n",
       "      <td>...</td>\n",
       "      <td>NaN</td>\n",
       "      <td>NaN</td>\n",
       "      <td>NaN</td>\n",
       "      <td>NaN</td>\n",
       "      <td>NaN</td>\n",
       "      <td>NaN</td>\n",
       "      <td>NaN</td>\n",
       "      <td>NaN</td>\n",
       "      <td>NaN</td>\n",
       "      <td>NaN</td>\n",
       "    </tr>\n",
       "    <tr>\n",
       "      <th>209</th>\n",
       "      <td>NaN</td>\n",
       "      <td>NaN</td>\n",
       "      <td>NaN</td>\n",
       "      <td>NaN</td>\n",
       "      <td>NaN</td>\n",
       "      <td>NaN</td>\n",
       "      <td>NaN</td>\n",
       "      <td>NaN</td>\n",
       "      <td>NaN</td>\n",
       "      <td>NaN</td>\n",
       "      <td>...</td>\n",
       "      <td>NaN</td>\n",
       "      <td>NaN</td>\n",
       "      <td>NaN</td>\n",
       "      <td>NaN</td>\n",
       "      <td>NaN</td>\n",
       "      <td>NaN</td>\n",
       "      <td>NaN</td>\n",
       "      <td>NaN</td>\n",
       "      <td>NaN</td>\n",
       "      <td>NaN</td>\n",
       "    </tr>\n",
       "  </tbody>\n",
       "</table>\n",
       "<p>210 rows × 219 columns</p>\n",
       "</div>"
      ],
      "text/plain": [
       "     num__EFF_AGE  num__ACT_AGE  num__LND_SQFOOT  num__TOT_LVG_AREA  num__JV  \\\n",
       "0             NaN           NaN              NaN                NaN      NaN   \n",
       "1             NaN           NaN              NaN                NaN      NaN   \n",
       "2             NaN           NaN              NaN                NaN      NaN   \n",
       "3             NaN           NaN              NaN                NaN      NaN   \n",
       "4             NaN           NaN              NaN                NaN      NaN   \n",
       "..            ...           ...              ...                ...      ...   \n",
       "205           NaN           NaN              NaN                NaN      NaN   \n",
       "206           NaN           NaN              NaN                NaN      NaN   \n",
       "207           NaN           NaN              NaN                NaN      NaN   \n",
       "208           NaN           NaN              NaN                NaN      NaN   \n",
       "209           NaN           NaN              NaN                NaN      NaN   \n",
       "\n",
       "     num__LND_VAL  num__NO_BULDNG  num__NCONST_VAL  num__DEL_VAL  \\\n",
       "0             NaN             NaN              NaN           NaN   \n",
       "1             NaN             NaN              NaN           NaN   \n",
       "2             NaN             NaN              NaN           NaN   \n",
       "3             NaN             NaN              NaN           NaN   \n",
       "4             NaN             NaN              NaN           NaN   \n",
       "..            ...             ...              ...           ...   \n",
       "205           NaN             NaN              NaN           NaN   \n",
       "206           NaN             NaN              NaN           NaN   \n",
       "207           NaN             NaN              NaN           NaN   \n",
       "208           NaN             NaN              NaN           NaN   \n",
       "209           NaN             NaN              NaN           NaN   \n",
       "\n",
       "     num__SPEC_FEAT_VAL  ...  cat__IMP_QUAL_3  cat__IMP_QUAL_4  \\\n",
       "0                   NaN  ...              NaN              NaN   \n",
       "1                   NaN  ...              NaN              NaN   \n",
       "2                   NaN  ...              NaN              NaN   \n",
       "3                   NaN  ...              NaN              NaN   \n",
       "4                   NaN  ...              NaN              NaN   \n",
       "..                  ...  ...              ...              ...   \n",
       "205                 NaN  ...              NaN              NaN   \n",
       "206                 NaN  ...              NaN              NaN   \n",
       "207                 NaN  ...              NaN              NaN   \n",
       "208                 NaN  ...              NaN              NaN   \n",
       "209                 NaN  ...              NaN              NaN   \n",
       "\n",
       "     cat__IMP_QUAL_5  cat__IMP_QUAL_6  cat__CONST_CLASS_0  cat__CONST_CLASS_1  \\\n",
       "0                NaN              NaN                 NaN                 NaN   \n",
       "1                NaN              NaN                 NaN                 NaN   \n",
       "2                NaN              NaN                 NaN                 NaN   \n",
       "3                NaN              NaN                 NaN                 NaN   \n",
       "4                NaN              NaN                 NaN                 NaN   \n",
       "..               ...              ...                 ...                 ...   \n",
       "205              NaN              NaN                 NaN                 NaN   \n",
       "206              NaN              NaN                 NaN                 NaN   \n",
       "207              NaN              NaN                 NaN                 NaN   \n",
       "208              NaN              NaN                 NaN                 NaN   \n",
       "209              NaN              NaN                 NaN                 NaN   \n",
       "\n",
       "     cat__CONST_CLASS_2  cat__CONST_CLASS_3  cat__CONST_CLASS_4  \\\n",
       "0                   NaN                 NaN                 NaN   \n",
       "1                   NaN                 NaN                 NaN   \n",
       "2                   NaN                 NaN                 NaN   \n",
       "3                   NaN                 NaN                 NaN   \n",
       "4                   NaN                 NaN                 NaN   \n",
       "..                  ...                 ...                 ...   \n",
       "205                 NaN                 NaN                 NaN   \n",
       "206                 NaN                 NaN                 NaN   \n",
       "207                 NaN                 NaN                 NaN   \n",
       "208                 NaN                 NaN                 NaN   \n",
       "209                 NaN                 NaN                 NaN   \n",
       "\n",
       "     cat__CONST_CLASS_5  \n",
       "0                   NaN  \n",
       "1                   NaN  \n",
       "2                   NaN  \n",
       "3                   NaN  \n",
       "4                   NaN  \n",
       "..                  ...  \n",
       "205                 NaN  \n",
       "206                 NaN  \n",
       "207                 NaN  \n",
       "208                 NaN  \n",
       "209                 NaN  \n",
       "\n",
       "[210 rows x 219 columns]"
      ]
     },
     "execution_count": 32,
     "metadata": {},
     "output_type": "execute_result"
    }
   ],
   "source": [
    "#If you wanted, you can recreate the data set in the processed format:\n",
    "\n",
    "flippers_train_processed = pd.DataFrame(train_x1, columns=preprocessor.get_feature_names_out())\n",
    "\n",
    "flippers_train_processed"
   ]
  },
  {
   "cell_type": "code",
   "execution_count": 33,
   "metadata": {},
   "outputs": [
    {
     "data": {
      "text/html": [
       "<div>\n",
       "<style scoped>\n",
       "    .dataframe tbody tr th:only-of-type {\n",
       "        vertical-align: middle;\n",
       "    }\n",
       "\n",
       "    .dataframe tbody tr th {\n",
       "        vertical-align: top;\n",
       "    }\n",
       "\n",
       "    .dataframe thead th {\n",
       "        text-align: right;\n",
       "    }\n",
       "</style>\n",
       "<table border=\"1\" class=\"dataframe\">\n",
       "  <thead>\n",
       "    <tr style=\"text-align: right;\">\n",
       "      <th></th>\n",
       "      <th>0</th>\n",
       "      <th>1</th>\n",
       "      <th>2</th>\n",
       "      <th>3</th>\n",
       "      <th>4</th>\n",
       "      <th>5</th>\n",
       "      <th>6</th>\n",
       "      <th>7</th>\n",
       "      <th>8</th>\n",
       "      <th>9</th>\n",
       "      <th>...</th>\n",
       "      <th>209</th>\n",
       "      <th>210</th>\n",
       "      <th>211</th>\n",
       "      <th>212</th>\n",
       "      <th>213</th>\n",
       "      <th>214</th>\n",
       "      <th>215</th>\n",
       "      <th>216</th>\n",
       "      <th>217</th>\n",
       "      <th>218</th>\n",
       "    </tr>\n",
       "  </thead>\n",
       "  <tbody>\n",
       "    <tr>\n",
       "      <th>0</th>\n",
       "      <td>0.132216</td>\n",
       "      <td>-0.334919</td>\n",
       "      <td>-0.144786</td>\n",
       "      <td>0.036702</td>\n",
       "      <td>0.130802</td>\n",
       "      <td>-0.170003</td>\n",
       "      <td>-0.069171</td>\n",
       "      <td>-0.246042</td>\n",
       "      <td>-0.147722</td>\n",
       "      <td>0.694509</td>\n",
       "      <td>...</td>\n",
       "      <td>0.0</td>\n",
       "      <td>1.0</td>\n",
       "      <td>0.0</td>\n",
       "      <td>0.0</td>\n",
       "      <td>0.0</td>\n",
       "      <td>0.0</td>\n",
       "      <td>0.0</td>\n",
       "      <td>1.0</td>\n",
       "      <td>0.0</td>\n",
       "      <td>0.0</td>\n",
       "    </tr>\n",
       "    <tr>\n",
       "      <th>1</th>\n",
       "      <td>-1.113664</td>\n",
       "      <td>-0.606126</td>\n",
       "      <td>2.239727</td>\n",
       "      <td>4.212845</td>\n",
       "      <td>1.682980</td>\n",
       "      <td>-0.016353</td>\n",
       "      <td>-0.069171</td>\n",
       "      <td>1.239736</td>\n",
       "      <td>0.340737</td>\n",
       "      <td>6.335638</td>\n",
       "      <td>...</td>\n",
       "      <td>1.0</td>\n",
       "      <td>0.0</td>\n",
       "      <td>0.0</td>\n",
       "      <td>0.0</td>\n",
       "      <td>0.0</td>\n",
       "      <td>0.0</td>\n",
       "      <td>0.0</td>\n",
       "      <td>1.0</td>\n",
       "      <td>0.0</td>\n",
       "      <td>0.0</td>\n",
       "    </tr>\n",
       "    <tr>\n",
       "      <th>2</th>\n",
       "      <td>-0.223750</td>\n",
       "      <td>-0.832132</td>\n",
       "      <td>-0.364596</td>\n",
       "      <td>-0.466766</td>\n",
       "      <td>-0.982050</td>\n",
       "      <td>-0.938423</td>\n",
       "      <td>-0.069171</td>\n",
       "      <td>-0.246042</td>\n",
       "      <td>-0.147722</td>\n",
       "      <td>-0.512809</td>\n",
       "      <td>...</td>\n",
       "      <td>1.0</td>\n",
       "      <td>0.0</td>\n",
       "      <td>0.0</td>\n",
       "      <td>0.0</td>\n",
       "      <td>1.0</td>\n",
       "      <td>0.0</td>\n",
       "      <td>0.0</td>\n",
       "      <td>0.0</td>\n",
       "      <td>0.0</td>\n",
       "      <td>0.0</td>\n",
       "    </tr>\n",
       "    <tr>\n",
       "      <th>3</th>\n",
       "      <td>-0.935681</td>\n",
       "      <td>-1.374545</td>\n",
       "      <td>1.327813</td>\n",
       "      <td>3.008961</td>\n",
       "      <td>3.027656</td>\n",
       "      <td>0.771270</td>\n",
       "      <td>-0.069171</td>\n",
       "      <td>-0.246042</td>\n",
       "      <td>-0.147722</td>\n",
       "      <td>0.217586</td>\n",
       "      <td>...</td>\n",
       "      <td>0.0</td>\n",
       "      <td>1.0</td>\n",
       "      <td>0.0</td>\n",
       "      <td>0.0</td>\n",
       "      <td>0.0</td>\n",
       "      <td>0.0</td>\n",
       "      <td>0.0</td>\n",
       "      <td>0.0</td>\n",
       "      <td>1.0</td>\n",
       "      <td>0.0</td>\n",
       "    </tr>\n",
       "    <tr>\n",
       "      <th>4</th>\n",
       "      <td>1.200113</td>\n",
       "      <td>0.252696</td>\n",
       "      <td>-0.328261</td>\n",
       "      <td>-0.656779</td>\n",
       "      <td>-0.975242</td>\n",
       "      <td>-0.750374</td>\n",
       "      <td>-0.069171</td>\n",
       "      <td>-0.246042</td>\n",
       "      <td>-0.147722</td>\n",
       "      <td>-0.419826</td>\n",
       "      <td>...</td>\n",
       "      <td>1.0</td>\n",
       "      <td>0.0</td>\n",
       "      <td>0.0</td>\n",
       "      <td>0.0</td>\n",
       "      <td>1.0</td>\n",
       "      <td>0.0</td>\n",
       "      <td>0.0</td>\n",
       "      <td>0.0</td>\n",
       "      <td>0.0</td>\n",
       "      <td>0.0</td>\n",
       "    </tr>\n",
       "  </tbody>\n",
       "</table>\n",
       "<p>5 rows × 219 columns</p>\n",
       "</div>"
      ],
      "text/plain": [
       "        0         1         2         3         4         5         6    \\\n",
       "0  0.132216 -0.334919 -0.144786  0.036702  0.130802 -0.170003 -0.069171   \n",
       "1 -1.113664 -0.606126  2.239727  4.212845  1.682980 -0.016353 -0.069171   \n",
       "2 -0.223750 -0.832132 -0.364596 -0.466766 -0.982050 -0.938423 -0.069171   \n",
       "3 -0.935681 -1.374545  1.327813  3.008961  3.027656  0.771270 -0.069171   \n",
       "4  1.200113  0.252696 -0.328261 -0.656779 -0.975242 -0.750374 -0.069171   \n",
       "\n",
       "        7         8         9    ...  209  210  211  212  213  214  215  216  \\\n",
       "0 -0.246042 -0.147722  0.694509  ...  0.0  1.0  0.0  0.0  0.0  0.0  0.0  1.0   \n",
       "1  1.239736  0.340737  6.335638  ...  1.0  0.0  0.0  0.0  0.0  0.0  0.0  1.0   \n",
       "2 -0.246042 -0.147722 -0.512809  ...  1.0  0.0  0.0  0.0  1.0  0.0  0.0  0.0   \n",
       "3 -0.246042 -0.147722  0.217586  ...  0.0  1.0  0.0  0.0  0.0  0.0  0.0  0.0   \n",
       "4 -0.246042 -0.147722 -0.419826  ...  1.0  0.0  0.0  0.0  1.0  0.0  0.0  0.0   \n",
       "\n",
       "   217  218  \n",
       "0  0.0  0.0  \n",
       "1  0.0  0.0  \n",
       "2  0.0  0.0  \n",
       "3  1.0  0.0  \n",
       "4  0.0  0.0  \n",
       "\n",
       "[5 rows x 219 columns]"
      ]
     },
     "execution_count": 33,
     "metadata": {},
     "output_type": "execute_result"
    }
   ],
   "source": [
    "train_x1.head(5)"
   ]
  },
  {
   "cell_type": "markdown",
   "metadata": {},
   "source": [
    "### Baseline Accuracy"
   ]
  },
  {
   "cell_type": "code",
   "execution_count": 34,
   "metadata": {},
   "outputs": [
    {
     "data": {
      "text/plain": [
       "Target_Var\n",
       "0             168\n",
       "1              42\n",
       "dtype: int64"
      ]
     },
     "execution_count": 34,
     "metadata": {},
     "output_type": "execute_result"
    }
   ],
   "source": [
    "#Majority Class\n",
    "train_y.value_counts()"
   ]
  },
  {
   "cell_type": "code",
   "execution_count": 35,
   "metadata": {},
   "outputs": [
    {
     "data": {
      "text/plain": [
       "Target_Var\n",
       "0             0.8\n",
       "1             0.2\n",
       "dtype: float64"
      ]
     },
     "execution_count": 35,
     "metadata": {},
     "output_type": "execute_result"
    }
   ],
   "source": [
    "#Majority Class by Percentage\n",
    "train_y.value_counts()/len(train_y)"
   ]
  },
  {
   "cell_type": "markdown",
   "metadata": {},
   "source": [
    "### Baseline - 78%"
   ]
  },
  {
   "cell_type": "code",
   "execution_count": 36,
   "metadata": {},
   "outputs": [],
   "source": [
    "from sklearn.linear_model import LogisticRegression"
   ]
  },
  {
   "cell_type": "code",
   "execution_count": 37,
   "metadata": {},
   "outputs": [
    {
     "name": "stderr",
     "output_type": "stream",
     "text": [
      "c:\\Users\\User\\AppData\\Local\\Programs\\Python\\Python310\\lib\\site-packages\\sklearn\\utils\\validation.py:1111: DataConversionWarning: A column-vector y was passed when a 1d array was expected. Please change the shape of y to (n_samples, ), for example using ravel().\n",
      "  y = column_or_1d(y, warn=True)\n"
     ]
    },
    {
     "data": {
      "text/html": [
       "<style>#sk-container-id-1 {color: black;background-color: white;}#sk-container-id-1 pre{padding: 0;}#sk-container-id-1 div.sk-toggleable {background-color: white;}#sk-container-id-1 label.sk-toggleable__label {cursor: pointer;display: block;width: 100%;margin-bottom: 0;padding: 0.3em;box-sizing: border-box;text-align: center;}#sk-container-id-1 label.sk-toggleable__label-arrow:before {content: \"▸\";float: left;margin-right: 0.25em;color: #696969;}#sk-container-id-1 label.sk-toggleable__label-arrow:hover:before {color: black;}#sk-container-id-1 div.sk-estimator:hover label.sk-toggleable__label-arrow:before {color: black;}#sk-container-id-1 div.sk-toggleable__content {max-height: 0;max-width: 0;overflow: hidden;text-align: left;background-color: #f0f8ff;}#sk-container-id-1 div.sk-toggleable__content pre {margin: 0.2em;color: black;border-radius: 0.25em;background-color: #f0f8ff;}#sk-container-id-1 input.sk-toggleable__control:checked~div.sk-toggleable__content {max-height: 200px;max-width: 100%;overflow: auto;}#sk-container-id-1 input.sk-toggleable__control:checked~label.sk-toggleable__label-arrow:before {content: \"▾\";}#sk-container-id-1 div.sk-estimator input.sk-toggleable__control:checked~label.sk-toggleable__label {background-color: #d4ebff;}#sk-container-id-1 div.sk-label input.sk-toggleable__control:checked~label.sk-toggleable__label {background-color: #d4ebff;}#sk-container-id-1 input.sk-hidden--visually {border: 0;clip: rect(1px 1px 1px 1px);clip: rect(1px, 1px, 1px, 1px);height: 1px;margin: -1px;overflow: hidden;padding: 0;position: absolute;width: 1px;}#sk-container-id-1 div.sk-estimator {font-family: monospace;background-color: #f0f8ff;border: 1px dotted black;border-radius: 0.25em;box-sizing: border-box;margin-bottom: 0.5em;}#sk-container-id-1 div.sk-estimator:hover {background-color: #d4ebff;}#sk-container-id-1 div.sk-parallel-item::after {content: \"\";width: 100%;border-bottom: 1px solid gray;flex-grow: 1;}#sk-container-id-1 div.sk-label:hover label.sk-toggleable__label {background-color: #d4ebff;}#sk-container-id-1 div.sk-serial::before {content: \"\";position: absolute;border-left: 1px solid gray;box-sizing: border-box;top: 0;bottom: 0;left: 50%;z-index: 0;}#sk-container-id-1 div.sk-serial {display: flex;flex-direction: column;align-items: center;background-color: white;padding-right: 0.2em;padding-left: 0.2em;position: relative;}#sk-container-id-1 div.sk-item {position: relative;z-index: 1;}#sk-container-id-1 div.sk-parallel {display: flex;align-items: stretch;justify-content: center;background-color: white;position: relative;}#sk-container-id-1 div.sk-item::before, #sk-container-id-1 div.sk-parallel-item::before {content: \"\";position: absolute;border-left: 1px solid gray;box-sizing: border-box;top: 0;bottom: 0;left: 50%;z-index: -1;}#sk-container-id-1 div.sk-parallel-item {display: flex;flex-direction: column;z-index: 1;position: relative;background-color: white;}#sk-container-id-1 div.sk-parallel-item:first-child::after {align-self: flex-end;width: 50%;}#sk-container-id-1 div.sk-parallel-item:last-child::after {align-self: flex-start;width: 50%;}#sk-container-id-1 div.sk-parallel-item:only-child::after {width: 0;}#sk-container-id-1 div.sk-dashed-wrapped {border: 1px dashed gray;margin: 0 0.4em 0.5em 0.4em;box-sizing: border-box;padding-bottom: 0.4em;background-color: white;}#sk-container-id-1 div.sk-label label {font-family: monospace;font-weight: bold;display: inline-block;line-height: 1.2em;}#sk-container-id-1 div.sk-label-container {text-align: center;}#sk-container-id-1 div.sk-container {/* jupyter's `normalize.less` sets `[hidden] { display: none; }` but bootstrap.min.css set `[hidden] { display: none !important; }` so we also need the `!important` here to be able to override the default hidden behavior on the sphinx rendered scikit-learn.org. See: https://github.com/scikit-learn/scikit-learn/issues/21755 */display: inline-block !important;position: relative;}#sk-container-id-1 div.sk-text-repr-fallback {display: none;}</style><div id=\"sk-container-id-1\" class=\"sk-top-container\"><div class=\"sk-text-repr-fallback\"><pre>LogisticRegression(random_state=42)</pre><b>In a Jupyter environment, please rerun this cell to show the HTML representation or trust the notebook. <br />On GitHub, the HTML representation is unable to render, please try loading this page with nbviewer.org.</b></div><div class=\"sk-container\" hidden><div class=\"sk-item\"><div class=\"sk-estimator sk-toggleable\"><input class=\"sk-toggleable__control sk-hidden--visually\" id=\"sk-estimator-id-1\" type=\"checkbox\" checked><label for=\"sk-estimator-id-1\" class=\"sk-toggleable__label sk-toggleable__label-arrow\">LogisticRegression</label><div class=\"sk-toggleable__content\"><pre>LogisticRegression(random_state=42)</pre></div></div></div></div></div>"
      ],
      "text/plain": [
       "LogisticRegression(random_state=42)"
      ]
     },
     "execution_count": 37,
     "metadata": {},
     "output_type": "execute_result"
    }
   ],
   "source": [
    "lr = LogisticRegression(random_state =42)\n",
    "lr.fit(train_x,train_y)"
   ]
  },
  {
   "cell_type": "code",
   "execution_count": 38,
   "metadata": {},
   "outputs": [
    {
     "data": {
      "text/plain": [
       "(0.8904761904761904, 0.9111111111111111)"
      ]
     },
     "execution_count": 38,
     "metadata": {},
     "output_type": "execute_result"
    }
   ],
   "source": [
    "lr.score(train_x,train_y),lr.score(test_x,test_y)"
   ]
  },
  {
   "cell_type": "markdown",
   "metadata": {},
   "source": [
    "## Accuracy"
   ]
  },
  {
   "cell_type": "code",
   "execution_count": 39,
   "metadata": {},
   "outputs": [],
   "source": [
    "from sklearn.metrics import accuracy_score"
   ]
  },
  {
   "cell_type": "code",
   "execution_count": 40,
   "metadata": {},
   "outputs": [
    {
     "data": {
      "text/plain": [
       "0.8904761904761904"
      ]
     },
     "execution_count": 40,
     "metadata": {},
     "output_type": "execute_result"
    }
   ],
   "source": [
    "#Predicting the trian values\n",
    "train_y_pred = lr.predict(train_x)\n",
    "\n",
    "#Train accuracy\n",
    "accuracy_score(train_y, train_y_pred)"
   ]
  },
  {
   "cell_type": "code",
   "execution_count": 41,
   "metadata": {},
   "outputs": [
    {
     "data": {
      "text/plain": [
       "0.9111111111111111"
      ]
     },
     "execution_count": 41,
     "metadata": {},
     "output_type": "execute_result"
    }
   ],
   "source": [
    "#Predicting the test values\n",
    "test_y_pred = lr.predict(test_x)\n",
    "\n",
    "#Test accuracy\n",
    "accuracy_score(test_y, test_y_pred)"
   ]
  },
  {
   "cell_type": "markdown",
   "metadata": {},
   "source": [
    "## Classification Matrix"
   ]
  },
  {
   "cell_type": "code",
   "execution_count": 42,
   "metadata": {},
   "outputs": [
    {
     "data": {
      "text/plain": [
       "array([[75,  3],\n",
       "       [ 5,  7]], dtype=int64)"
      ]
     },
     "execution_count": 42,
     "metadata": {},
     "output_type": "execute_result"
    }
   ],
   "source": [
    "from sklearn.metrics import confusion_matrix\n",
    "confusion_matrix(test_y, test_y_pred)"
   ]
  },
  {
   "cell_type": "markdown",
   "metadata": {},
   "source": [
    "## Classification Report"
   ]
  },
  {
   "cell_type": "code",
   "execution_count": 43,
   "metadata": {},
   "outputs": [
    {
     "name": "stdout",
     "output_type": "stream",
     "text": [
      "              precision    recall  f1-score   support\n",
      "\n",
      "           0       0.94      0.96      0.95        78\n",
      "           1       0.70      0.58      0.64        12\n",
      "\n",
      "    accuracy                           0.91        90\n",
      "   macro avg       0.82      0.77      0.79        90\n",
      "weighted avg       0.91      0.91      0.91        90\n",
      "\n"
     ]
    }
   ],
   "source": [
    "from sklearn.metrics import classification_report\n",
    "\n",
    "print(classification_report(test_y, test_y_pred))"
   ]
  },
  {
   "cell_type": "code",
   "execution_count": 44,
   "metadata": {},
   "outputs": [
    {
     "data": {
      "text/plain": [
       "array([-1.51361163])"
      ]
     },
     "execution_count": 44,
     "metadata": {},
     "output_type": "execute_result"
    }
   ],
   "source": [
    "lr.intercept_"
   ]
  },
  {
   "cell_type": "code",
   "execution_count": 45,
   "metadata": {},
   "outputs": [],
   "source": [
    "def inv_logit(p):\n",
    "    return np.exp(p) / (1 + np.exp(p))"
   ]
  },
  {
   "cell_type": "code",
   "execution_count": 46,
   "metadata": {},
   "outputs": [
    {
     "data": {
      "text/plain": [
       "array([0.18040417])"
      ]
     },
     "execution_count": 46,
     "metadata": {},
     "output_type": "execute_result"
    }
   ],
   "source": [
    "inv_logit(lr.intercept_)"
   ]
  },
  {
   "cell_type": "code",
   "execution_count": 47,
   "metadata": {},
   "outputs": [],
   "source": [
    "flippers_inputs = flippers.drop(['Target_Var'], axis =1)\n"
   ]
  },
  {
   "cell_type": "code",
   "execution_count": 48,
   "metadata": {},
   "outputs": [
    {
     "data": {
      "text/plain": [
       "<bound method NDFrame.head of      EFF_AGE  ACT_AGE  LND_SQFOOT  TOT_LVG_AREA  \\\n",
       "521       49       68        5619          1007   \n",
       "737       32       79        8250          1065   \n",
       "740       72       72        5944          1084   \n",
       "660       29       51        5998          1278   \n",
       "411       37       57        8580          1554   \n",
       "..       ...      ...         ...           ...   \n",
       "468       18       18        7650          1853   \n",
       "935        4        4        7405          1484   \n",
       "428       26       46        9600          1604   \n",
       "7         32       42       39060          1748   \n",
       "155       14       14        6600          2384   \n",
       "\n",
       "                            S_LEGAL CONST_CLASS IMP_QUAL      JV  LND_VAL  \\\n",
       "521                      GULF GROVE           3        3   81578    41987   \n",
       "737              17-85    05-3S-26E           4        3  103253    28512   \n",
       "740              9-36     59-2S-26E           3        3   65351    24000   \n",
       "660                   SEMINOLE LAKE           3        3  174976    86173   \n",
       "411   LOT 377 VENICE GARDENS UNIT 6           3        2  134600    43000   \n",
       "..                              ...         ...      ...     ...      ...   \n",
       "468   LOT 49 THE VILLAGES OF SUMTER           2        3  222270    27390   \n",
       "935                         LOT 486           4        6  150893    40000   \n",
       "428   LOT 22 BLK 14 VENICE EAST SEC           3        3  150000    48100   \n",
       "7    LOT 10 BLK 375 DELTONA LAKES U           0        3  175249    47709   \n",
       "155  HIGHLANDS PHASE TWO PB 61 PG 1           0        3  197134    26070   \n",
       "\n",
       "     NO_BULDNG  NCONST_VAL  DEL_VAL  SPEC_FEAT_VAL  MonthDifference  SALE_PRC1  \n",
       "521          1           0        0              0                0     104000  \n",
       "737          1       21156        0           1191                7     129900  \n",
       "740          1           0        0              0                1      70000  \n",
       "660          1           0        0            720                1     169000  \n",
       "411          1           0        0           1400                2     172000  \n",
       "..         ...         ...      ...            ...              ...        ...  \n",
       "468          1           0        0              0                4     255000  \n",
       "935          1           0        0           1749                7     195000  \n",
       "428          1           0        0              0               -8     182600  \n",
       "7            1           0        0             83                1     239900  \n",
       "155          1           0        0           2741                9     204500  \n",
       "\n",
       "[300 rows x 15 columns]>"
      ]
     },
     "execution_count": 48,
     "metadata": {},
     "output_type": "execute_result"
    }
   ],
   "source": [
    "flippers_inputs.head"
   ]
  },
  {
   "cell_type": "code",
   "execution_count": 49,
   "metadata": {},
   "outputs": [],
   "source": [
    "flippers_target = flippers['Target_Var']"
   ]
  },
  {
   "cell_type": "code",
   "execution_count": 50,
   "metadata": {},
   "outputs": [
    {
     "data": {
      "text/plain": [
       "<bound method NDFrame.head of 521    0\n",
       "737    0\n",
       "740    0\n",
       "660    0\n",
       "411    0\n",
       "      ..\n",
       "468    0\n",
       "935    0\n",
       "428    0\n",
       "7      0\n",
       "155    0\n",
       "Name: Target_Var, Length: 300, dtype: int64>"
      ]
     },
     "execution_count": 50,
     "metadata": {},
     "output_type": "execute_result"
    }
   ],
   "source": [
    "flippers_target.head"
   ]
  },
  {
   "cell_type": "code",
   "execution_count": 51,
   "metadata": {},
   "outputs": [
    {
     "name": "stdout",
     "output_type": "stream",
     "text": [
      "S_LEGAL        1.048      0.740\n",
      "ACT_AGE        0.389      0.596\n",
      "NO_BULDNG      0.358      0.588\n",
      "CONST_CLASS     0.165      0.541\n",
      "TOT_LVG_AREA     0.106      0.526\n",
      "SALE_PRC1     -0.115      0.471\n",
      "EFF_AGE       -0.119      0.470\n",
      "SPEC_FEAT_VAL    -0.156      0.461\n",
      "IMP_QUAL      -0.171      0.457\n",
      "LND_SQFOOT    -0.208      0.448\n",
      "JV            -0.287      0.429\n",
      "LND_VAL       -0.345      0.415\n",
      "MonthDifference    -0.411      0.399\n",
      "NCONST_VAL    -0.866      0.296\n",
      "DEL_VAL       -1.499      0.183\n"
     ]
    }
   ],
   "source": [
    "cols = flippers_inputs.columns\n",
    "for col, val in sorted(\n",
    "    zip(cols, lr.coef_[0]),\n",
    "    key=lambda x: x[1],\n",
    "    reverse=True,\n",
    "    ):print(f\"{col:10}{val:10.3f} {inv_logit(val):10.3f}\")\n"
   ]
  },
  {
   "cell_type": "code",
   "execution_count": 52,
   "metadata": {},
   "outputs": [],
   "source": [
    "from yellowbrick.model_selection.importances import FeatureImportances\n",
    "from matplotlib import pyplot as plt"
   ]
  },
  {
   "cell_type": "markdown",
   "metadata": {},
   "source": [
    "## to do: select top 5 and bottom 5 cofficients"
   ]
  },
  {
   "cell_type": "code",
   "execution_count": 53,
   "metadata": {},
   "outputs": [],
   "source": [
    "\n",
    "test_x_10 = test_x[:10]\n",
    "test_y_10 = test_y[:10]"
   ]
  },
  {
   "cell_type": "code",
   "execution_count": 81,
   "metadata": {},
   "outputs": [
    {
     "data": {
      "text/plain": [
       "((10, 219), (10, 1))"
      ]
     },
     "execution_count": 81,
     "metadata": {},
     "output_type": "execute_result"
    }
   ],
   "source": [
    "test_x_10.shape, test_y_10.shape"
   ]
  },
  {
   "cell_type": "code",
   "execution_count": 55,
   "metadata": {},
   "outputs": [
    {
     "name": "stderr",
     "output_type": "stream",
     "text": [
      "c:\\Users\\User\\AppData\\Local\\Programs\\Python\\Python310\\lib\\site-packages\\yellowbrick\\model_selection\\importances.py:194: YellowbrickWarning: detected multi-dimensional feature importances but stack=False, using mean to aggregate them.\n",
      "  warnings.warn(\n"
     ]
    },
    {
     "data": {
      "image/png": "[encoded data removed]",
      "text/plain": [
       "<Figure size 600x400 with 1 Axes>"
      ]
     },
     "metadata": {},
     "output_type": "display_data"
    }
   ],
   "source": [
    "fig, ax = plt.subplots (figsize=(6,4))\n",
    "fi_viz = FeatureImportances(lr)\n",
    "fi_viz.fit(test_x_10,test_y_10)\n",
    "fi_viz.poof()\n",
    "fig.savefig(\"LR_Feature_Importance.png\")"
   ]
  },
  {
   "cell_type": "code",
   "execution_count": 80,
   "metadata": {},
   "outputs": [],
   "source": [
    "test_x_top_5_features = np.sort(flippers_train_processed)[:10,-5:]\n",
    "#test_y_top_5_features = test_y[:10,-5:]"
   ]
  },
  {
   "cell_type": "code",
   "execution_count": 82,
   "metadata": {},
   "outputs": [
    {
     "data": {
      "text/plain": [
       "((10, 5), (10, 1))"
      ]
     },
     "execution_count": 82,
     "metadata": {},
     "output_type": "execute_result"
    }
   ],
   "source": [
    "test_x_top_5_features.shape, test_y_10.shape"
   ]
  },
  {
   "cell_type": "code",
   "execution_count": 83,
   "metadata": {},
   "outputs": [
    {
     "name": "stderr",
     "output_type": "stream",
     "text": [
      "c:\\Users\\User\\AppData\\Local\\Programs\\Python\\Python310\\lib\\site-packages\\yellowbrick\\model_selection\\importances.py:194: YellowbrickWarning: detected multi-dimensional feature importances but stack=False, using mean to aggregate them.\n",
      "  warnings.warn(\n"
     ]
    },
    {
     "ename": "IndexError",
     "evalue": "index 11 is out of bounds for axis 0 with size 5",
     "output_type": "error",
     "traceback": [
      "\u001b[1;31m---------------------------------------------------------------------------\u001b[0m",
      "\u001b[1;31mIndexError\u001b[0m                                Traceback (most recent call last)",
      "Cell \u001b[1;32mIn [83], line 3\u001b[0m\n\u001b[0;32m      1\u001b[0m fig, ax \u001b[39m=\u001b[39m plt\u001b[39m.\u001b[39msubplots (figsize\u001b[39m=\u001b[39m(\u001b[39m6\u001b[39m,\u001b[39m4\u001b[39m))\n\u001b[0;32m      2\u001b[0m fi_viz \u001b[39m=\u001b[39m FeatureImportances(lr)\n\u001b[1;32m----> 3\u001b[0m fi_viz\u001b[39m.\u001b[39;49mfit(test_x_top_5_features,test_y_10)\n\u001b[0;32m      4\u001b[0m fi_viz\u001b[39m.\u001b[39mpoof()\n\u001b[0;32m      5\u001b[0m fig\u001b[39m.\u001b[39msavefig(\u001b[39m\"\u001b[39m\u001b[39mLR_Feature_Importance.png\u001b[39m\u001b[39m\"\u001b[39m)\n",
      "File \u001b[1;32mc:\\Users\\User\\AppData\\Local\\Programs\\Python\\Python310\\lib\\site-packages\\yellowbrick\\model_selection\\importances.py:262\u001b[0m, in \u001b[0;36mFeatureImportances.fit\u001b[1;34m(self, X, y, **kwargs)\u001b[0m\n\u001b[0;32m    260\u001b[0m     \u001b[39m# Sort features by value (sorting a second time if topn)\u001b[39;00m\n\u001b[0;32m    261\u001b[0m     sort_idx \u001b[39m=\u001b[39m np\u001b[39m.\u001b[39margsort(\u001b[39mself\u001b[39m\u001b[39m.\u001b[39mfeature_importances_)\n\u001b[1;32m--> 262\u001b[0m     \u001b[39mself\u001b[39m\u001b[39m.\u001b[39mfeatures_ \u001b[39m=\u001b[39m \u001b[39mself\u001b[39;49m\u001b[39m.\u001b[39;49mfeatures_[sort_idx]\n\u001b[0;32m    263\u001b[0m     \u001b[39mself\u001b[39m\u001b[39m.\u001b[39mfeature_importances_ \u001b[39m=\u001b[39m \u001b[39mself\u001b[39m\u001b[39m.\u001b[39mfeature_importances_[sort_idx]\n\u001b[0;32m    265\u001b[0m \u001b[39m# Draw the feature importances\u001b[39;00m\n",
      "\u001b[1;31mIndexError\u001b[0m: index 11 is out of bounds for axis 0 with size 5"
     ]
    },
    {
     "data": {
      "image/png": "[encoded data removed]",
      "text/plain": [
       "<Figure size 600x400 with 1 Axes>"
      ]
     },
     "metadata": {},
     "output_type": "display_data"
    }
   ],
   "source": [
    "fig, ax = plt.subplots (figsize=(6,4))\n",
    "fi_viz = FeatureImportances(lr)\n",
    "fi_viz.fit(test_x_top_5_features,test_y_10)\n",
    "fi_viz.poof()\n",
    "fig.savefig(\"LR_Feature_Importance.png\")"
   ]
  }
 ],
 "metadata": {
  "kernelspec": {
   "display_name": "Python 3.10.8 64-bit",
   "language": "python",
   "name": "python3"
  },
  "language_info": {
   "codemirror_mode": {
    "name": "ipython",
    "version": 3
   },
   "file_extension": ".py",
   "mimetype": "text/x-python",
   "name": "python",
   "nbconvert_exporter": "python",
   "pygments_lexer": "ipython3",
   "version": "3.10.8"
  },
  "orig_nbformat": 4,
  "vscode": {
   "interpreter": {
    "hash": "afb734500600fd355917ca529030176ea0ca205570884b88f2f6f7d791fd3fbe"
   }
  }
 },
 "nbformat": 4,
 "nbformat_minor": 2
}
