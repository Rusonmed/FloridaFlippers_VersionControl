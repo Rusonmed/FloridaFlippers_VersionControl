{
 "cells": [
  {
   "cell_type": "code",
   "execution_count": 3,
   "metadata": {},
   "outputs": [],
   "source": [
    "# Common imports\n",
    "import numpy as np\n",
    "import pandas as pd\n",
    "np.random.seed(42)"
   ]
  },
  {
   "cell_type": "code",
   "execution_count": 4,
   "metadata": {},
   "outputs": [
    {
     "data": {
      "text/html": [
       "<div>\n",
       "<style scoped>\n",
       "    .dataframe tbody tr th:only-of-type {\n",
       "        vertical-align: middle;\n",
       "    }\n",
       "\n",
       "    .dataframe tbody tr th {\n",
       "        vertical-align: top;\n",
       "    }\n",
       "\n",
       "    .dataframe thead th {\n",
       "        text-align: right;\n",
       "    }\n",
       "</style>\n",
       "<table border=\"1\" class=\"dataframe\">\n",
       "  <thead>\n",
       "    <tr style=\"text-align: right;\">\n",
       "      <th></th>\n",
       "      <th>EFF_AGE</th>\n",
       "      <th>ACT_AGE</th>\n",
       "      <th>LND_SQFOOT</th>\n",
       "      <th>TOT_LVG_AREA</th>\n",
       "      <th>S_LEGAL</th>\n",
       "      <th>CONST_CLASS</th>\n",
       "      <th>IMP_QUAL</th>\n",
       "      <th>JV</th>\n",
       "      <th>LND_VAL</th>\n",
       "      <th>NO_BULDNG</th>\n",
       "      <th>NCONST_VAL</th>\n",
       "      <th>DEL_VAL</th>\n",
       "      <th>SPEC_FEAT_VAL</th>\n",
       "      <th>MonthDifference</th>\n",
       "      <th>SALE_PRC1</th>\n",
       "      <th>Target_Var</th>\n",
       "    </tr>\n",
       "  </thead>\n",
       "  <tbody>\n",
       "    <tr>\n",
       "      <th>0</th>\n",
       "      <td>23</td>\n",
       "      <td>23</td>\n",
       "      <td>20850</td>\n",
       "      <td>1453</td>\n",
       "      <td>LOTS 13 TO 18 INC BLK L 4TH AD</td>\n",
       "      <td>0</td>\n",
       "      <td>3</td>\n",
       "      <td>154349</td>\n",
       "      <td>13755</td>\n",
       "      <td>1</td>\n",
       "      <td>0</td>\n",
       "      <td>0</td>\n",
       "      <td>13661</td>\n",
       "      <td>5</td>\n",
       "      <td>205000</td>\n",
       "      <td>0</td>\n",
       "    </tr>\n",
       "    <tr>\n",
       "      <th>1</th>\n",
       "      <td>18</td>\n",
       "      <td>22</td>\n",
       "      <td>10000</td>\n",
       "      <td>1330</td>\n",
       "      <td>LOT 8 BLK 266 DELTONA LAKES UN</td>\n",
       "      <td>0</td>\n",
       "      <td>3</td>\n",
       "      <td>149271</td>\n",
       "      <td>20400</td>\n",
       "      <td>1</td>\n",
       "      <td>0</td>\n",
       "      <td>0</td>\n",
       "      <td>278</td>\n",
       "      <td>3</td>\n",
       "      <td>210000</td>\n",
       "      <td>0</td>\n",
       "    </tr>\n",
       "    <tr>\n",
       "      <th>2</th>\n",
       "      <td>7</td>\n",
       "      <td>30</td>\n",
       "      <td>10000</td>\n",
       "      <td>1395</td>\n",
       "      <td>LOT 9 BLK 322 DELTONA LAKES UN</td>\n",
       "      <td>0</td>\n",
       "      <td>3</td>\n",
       "      <td>169016</td>\n",
       "      <td>21200</td>\n",
       "      <td>1</td>\n",
       "      <td>0</td>\n",
       "      <td>0</td>\n",
       "      <td>0</td>\n",
       "      <td>5</td>\n",
       "      <td>199900</td>\n",
       "      <td>0</td>\n",
       "    </tr>\n",
       "    <tr>\n",
       "      <th>3</th>\n",
       "      <td>12</td>\n",
       "      <td>20</td>\n",
       "      <td>10000</td>\n",
       "      <td>1551</td>\n",
       "      <td>LOT 9 BLK 370 DELTONA LAKES UN</td>\n",
       "      <td>0</td>\n",
       "      <td>3</td>\n",
       "      <td>167252</td>\n",
       "      <td>21200</td>\n",
       "      <td>1</td>\n",
       "      <td>0</td>\n",
       "      <td>0</td>\n",
       "      <td>142</td>\n",
       "      <td>4</td>\n",
       "      <td>186000</td>\n",
       "      <td>0</td>\n",
       "    </tr>\n",
       "    <tr>\n",
       "      <th>4</th>\n",
       "      <td>42</td>\n",
       "      <td>42</td>\n",
       "      <td>10250</td>\n",
       "      <td>1702</td>\n",
       "      <td>LOT 7 BLK 366 DELTONA LAKES UN</td>\n",
       "      <td>0</td>\n",
       "      <td>3</td>\n",
       "      <td>130450</td>\n",
       "      <td>24600</td>\n",
       "      <td>1</td>\n",
       "      <td>0</td>\n",
       "      <td>0</td>\n",
       "      <td>897</td>\n",
       "      <td>4</td>\n",
       "      <td>219900</td>\n",
       "      <td>0</td>\n",
       "    </tr>\n",
       "  </tbody>\n",
       "</table>\n",
       "</div>"
      ],
      "text/plain": [
       "   EFF_AGE  ACT_AGE  LND_SQFOOT  TOT_LVG_AREA                         S_LEGAL  \\\n",
       "0       23       23       20850          1453  LOTS 13 TO 18 INC BLK L 4TH AD   \n",
       "1       18       22       10000          1330  LOT 8 BLK 266 DELTONA LAKES UN   \n",
       "2        7       30       10000          1395  LOT 9 BLK 322 DELTONA LAKES UN   \n",
       "3       12       20       10000          1551  LOT 9 BLK 370 DELTONA LAKES UN   \n",
       "4       42       42       10250          1702  LOT 7 BLK 366 DELTONA LAKES UN   \n",
       "\n",
       "   CONST_CLASS  IMP_QUAL      JV  LND_VAL  NO_BULDNG  NCONST_VAL  DEL_VAL  \\\n",
       "0            0         3  154349    13755          1           0        0   \n",
       "1            0         3  149271    20400          1           0        0   \n",
       "2            0         3  169016    21200          1           0        0   \n",
       "3            0         3  167252    21200          1           0        0   \n",
       "4            0         3  130450    24600          1           0        0   \n",
       "\n",
       "   SPEC_FEAT_VAL  MonthDifference  SALE_PRC1  Target_Var  \n",
       "0          13661                5     205000           0  \n",
       "1            278                3     210000           0  \n",
       "2              0                5     199900           0  \n",
       "3            142                4     186000           0  \n",
       "4            897                4     219900           0  "
      ]
     },
     "execution_count": 4,
     "metadata": {},
     "output_type": "execute_result"
    }
   ],
   "source": [
    "flippers = pd.read_csv(\"INPUTS.csv\")\n",
    "flippers.head()"
   ]
  },
  {
   "cell_type": "code",
   "execution_count": 5,
   "metadata": {},
   "outputs": [
    {
     "data": {
      "text/plain": [
       "(401723, 16)"
      ]
     },
     "execution_count": 5,
     "metadata": {},
     "output_type": "execute_result"
    }
   ],
   "source": [
    "flippers.shape"
   ]
  },
  {
   "cell_type": "code",
   "execution_count": 6,
   "metadata": {},
   "outputs": [
    {
     "data": {
      "text/plain": [
       "(401723, 16)"
      ]
     },
     "execution_count": 6,
     "metadata": {},
     "output_type": "execute_result"
    }
   ],
   "source": [
    "flippers.shape"
   ]
  },
  {
   "cell_type": "code",
   "execution_count": 7,
   "metadata": {},
   "outputs": [
    {
     "data": {
      "text/plain": [
       "EFF_AGE             int64\n",
       "ACT_AGE             int64\n",
       "LND_SQFOOT          int64\n",
       "TOT_LVG_AREA        int64\n",
       "S_LEGAL            object\n",
       "CONST_CLASS         int64\n",
       "IMP_QUAL            int64\n",
       "JV                  int64\n",
       "LND_VAL             int64\n",
       "NO_BULDNG           int64\n",
       "NCONST_VAL          int64\n",
       "DEL_VAL             int64\n",
       "SPEC_FEAT_VAL       int64\n",
       "MonthDifference     int64\n",
       "SALE_PRC1           int64\n",
       "Target_Var          int64\n",
       "dtype: object"
      ]
     },
     "execution_count": 7,
     "metadata": {},
     "output_type": "execute_result"
    }
   ],
   "source": [
    "flippers.dtypes"
   ]
  },
  {
   "cell_type": "markdown",
   "metadata": {},
   "source": [
    "## Splitting the data into train and test sets"
   ]
  },
  {
   "cell_type": "code",
   "execution_count": 8,
   "metadata": {},
   "outputs": [],
   "source": [
    "#Splitting Data\n",
    "from sklearn.model_selection import train_test_split\n",
    "train, test = train_test_split(flippers, test_size=0.3)"
   ]
  },
  {
   "cell_type": "code",
   "execution_count": 9,
   "metadata": {},
   "outputs": [
    {
     "data": {
      "text/plain": [
       "EFF_AGE            0\n",
       "ACT_AGE            0\n",
       "LND_SQFOOT         0\n",
       "TOT_LVG_AREA       0\n",
       "S_LEGAL            0\n",
       "CONST_CLASS        0\n",
       "IMP_QUAL           0\n",
       "JV                 0\n",
       "LND_VAL            0\n",
       "NO_BULDNG          0\n",
       "NCONST_VAL         0\n",
       "DEL_VAL            0\n",
       "SPEC_FEAT_VAL      0\n",
       "MonthDifference    0\n",
       "SALE_PRC1          0\n",
       "Target_Var         0\n",
       "dtype: int64"
      ]
     },
     "execution_count": 9,
     "metadata": {},
     "output_type": "execute_result"
    }
   ],
   "source": [
    "#Checking for missing values\n",
    "train.isna().sum()"
   ]
  },
  {
   "cell_type": "code",
   "execution_count": 10,
   "metadata": {},
   "outputs": [
    {
     "data": {
      "text/html": [
       "<div>\n",
       "<style scoped>\n",
       "    .dataframe tbody tr th:only-of-type {\n",
       "        vertical-align: middle;\n",
       "    }\n",
       "\n",
       "    .dataframe tbody tr th {\n",
       "        vertical-align: top;\n",
       "    }\n",
       "\n",
       "    .dataframe thead th {\n",
       "        text-align: right;\n",
       "    }\n",
       "</style>\n",
       "<table border=\"1\" class=\"dataframe\">\n",
       "  <thead>\n",
       "    <tr style=\"text-align: right;\">\n",
       "      <th></th>\n",
       "      <th>EFF_AGE</th>\n",
       "      <th>ACT_AGE</th>\n",
       "      <th>LND_SQFOOT</th>\n",
       "      <th>TOT_LVG_AREA</th>\n",
       "      <th>S_LEGAL</th>\n",
       "      <th>CONST_CLASS</th>\n",
       "      <th>IMP_QUAL</th>\n",
       "      <th>JV</th>\n",
       "      <th>LND_VAL</th>\n",
       "      <th>NO_BULDNG</th>\n",
       "      <th>NCONST_VAL</th>\n",
       "      <th>DEL_VAL</th>\n",
       "      <th>SPEC_FEAT_VAL</th>\n",
       "      <th>MonthDifference</th>\n",
       "      <th>SALE_PRC1</th>\n",
       "      <th>Target_Var</th>\n",
       "    </tr>\n",
       "  </thead>\n",
       "  <tbody>\n",
       "    <tr>\n",
       "      <th>395999</th>\n",
       "      <td>False</td>\n",
       "      <td>False</td>\n",
       "      <td>False</td>\n",
       "      <td>False</td>\n",
       "      <td>False</td>\n",
       "      <td>False</td>\n",
       "      <td>False</td>\n",
       "      <td>False</td>\n",
       "      <td>False</td>\n",
       "      <td>False</td>\n",
       "      <td>False</td>\n",
       "      <td>False</td>\n",
       "      <td>False</td>\n",
       "      <td>False</td>\n",
       "      <td>False</td>\n",
       "      <td>False</td>\n",
       "    </tr>\n",
       "    <tr>\n",
       "      <th>379095</th>\n",
       "      <td>False</td>\n",
       "      <td>False</td>\n",
       "      <td>False</td>\n",
       "      <td>False</td>\n",
       "      <td>False</td>\n",
       "      <td>False</td>\n",
       "      <td>False</td>\n",
       "      <td>False</td>\n",
       "      <td>False</td>\n",
       "      <td>False</td>\n",
       "      <td>False</td>\n",
       "      <td>False</td>\n",
       "      <td>False</td>\n",
       "      <td>False</td>\n",
       "      <td>False</td>\n",
       "      <td>False</td>\n",
       "    </tr>\n",
       "    <tr>\n",
       "      <th>74245</th>\n",
       "      <td>False</td>\n",
       "      <td>False</td>\n",
       "      <td>False</td>\n",
       "      <td>False</td>\n",
       "      <td>False</td>\n",
       "      <td>False</td>\n",
       "      <td>False</td>\n",
       "      <td>False</td>\n",
       "      <td>False</td>\n",
       "      <td>False</td>\n",
       "      <td>False</td>\n",
       "      <td>False</td>\n",
       "      <td>False</td>\n",
       "      <td>False</td>\n",
       "      <td>False</td>\n",
       "      <td>False</td>\n",
       "    </tr>\n",
       "    <tr>\n",
       "      <th>293273</th>\n",
       "      <td>False</td>\n",
       "      <td>False</td>\n",
       "      <td>False</td>\n",
       "      <td>False</td>\n",
       "      <td>False</td>\n",
       "      <td>False</td>\n",
       "      <td>False</td>\n",
       "      <td>False</td>\n",
       "      <td>False</td>\n",
       "      <td>False</td>\n",
       "      <td>False</td>\n",
       "      <td>False</td>\n",
       "      <td>False</td>\n",
       "      <td>False</td>\n",
       "      <td>False</td>\n",
       "      <td>False</td>\n",
       "    </tr>\n",
       "    <tr>\n",
       "      <th>330219</th>\n",
       "      <td>False</td>\n",
       "      <td>False</td>\n",
       "      <td>False</td>\n",
       "      <td>False</td>\n",
       "      <td>False</td>\n",
       "      <td>False</td>\n",
       "      <td>False</td>\n",
       "      <td>False</td>\n",
       "      <td>False</td>\n",
       "      <td>False</td>\n",
       "      <td>False</td>\n",
       "      <td>False</td>\n",
       "      <td>False</td>\n",
       "      <td>False</td>\n",
       "      <td>False</td>\n",
       "      <td>False</td>\n",
       "    </tr>\n",
       "    <tr>\n",
       "      <th>...</th>\n",
       "      <td>...</td>\n",
       "      <td>...</td>\n",
       "      <td>...</td>\n",
       "      <td>...</td>\n",
       "      <td>...</td>\n",
       "      <td>...</td>\n",
       "      <td>...</td>\n",
       "      <td>...</td>\n",
       "      <td>...</td>\n",
       "      <td>...</td>\n",
       "      <td>...</td>\n",
       "      <td>...</td>\n",
       "      <td>...</td>\n",
       "      <td>...</td>\n",
       "      <td>...</td>\n",
       "      <td>...</td>\n",
       "    </tr>\n",
       "    <tr>\n",
       "      <th>259178</th>\n",
       "      <td>False</td>\n",
       "      <td>False</td>\n",
       "      <td>False</td>\n",
       "      <td>False</td>\n",
       "      <td>False</td>\n",
       "      <td>False</td>\n",
       "      <td>False</td>\n",
       "      <td>False</td>\n",
       "      <td>False</td>\n",
       "      <td>False</td>\n",
       "      <td>False</td>\n",
       "      <td>False</td>\n",
       "      <td>False</td>\n",
       "      <td>False</td>\n",
       "      <td>False</td>\n",
       "      <td>False</td>\n",
       "    </tr>\n",
       "    <tr>\n",
       "      <th>365838</th>\n",
       "      <td>False</td>\n",
       "      <td>False</td>\n",
       "      <td>False</td>\n",
       "      <td>False</td>\n",
       "      <td>False</td>\n",
       "      <td>False</td>\n",
       "      <td>False</td>\n",
       "      <td>False</td>\n",
       "      <td>False</td>\n",
       "      <td>False</td>\n",
       "      <td>False</td>\n",
       "      <td>False</td>\n",
       "      <td>False</td>\n",
       "      <td>False</td>\n",
       "      <td>False</td>\n",
       "      <td>False</td>\n",
       "    </tr>\n",
       "    <tr>\n",
       "      <th>131932</th>\n",
       "      <td>False</td>\n",
       "      <td>False</td>\n",
       "      <td>False</td>\n",
       "      <td>False</td>\n",
       "      <td>False</td>\n",
       "      <td>False</td>\n",
       "      <td>False</td>\n",
       "      <td>False</td>\n",
       "      <td>False</td>\n",
       "      <td>False</td>\n",
       "      <td>False</td>\n",
       "      <td>False</td>\n",
       "      <td>False</td>\n",
       "      <td>False</td>\n",
       "      <td>False</td>\n",
       "      <td>False</td>\n",
       "    </tr>\n",
       "    <tr>\n",
       "      <th>146867</th>\n",
       "      <td>False</td>\n",
       "      <td>False</td>\n",
       "      <td>False</td>\n",
       "      <td>False</td>\n",
       "      <td>False</td>\n",
       "      <td>False</td>\n",
       "      <td>False</td>\n",
       "      <td>False</td>\n",
       "      <td>False</td>\n",
       "      <td>False</td>\n",
       "      <td>False</td>\n",
       "      <td>False</td>\n",
       "      <td>False</td>\n",
       "      <td>False</td>\n",
       "      <td>False</td>\n",
       "      <td>False</td>\n",
       "    </tr>\n",
       "    <tr>\n",
       "      <th>121958</th>\n",
       "      <td>False</td>\n",
       "      <td>False</td>\n",
       "      <td>False</td>\n",
       "      <td>False</td>\n",
       "      <td>False</td>\n",
       "      <td>False</td>\n",
       "      <td>False</td>\n",
       "      <td>False</td>\n",
       "      <td>False</td>\n",
       "      <td>False</td>\n",
       "      <td>False</td>\n",
       "      <td>False</td>\n",
       "      <td>False</td>\n",
       "      <td>False</td>\n",
       "      <td>False</td>\n",
       "      <td>False</td>\n",
       "    </tr>\n",
       "  </tbody>\n",
       "</table>\n",
       "<p>281206 rows × 16 columns</p>\n",
       "</div>"
      ],
      "text/plain": [
       "        EFF_AGE  ACT_AGE  LND_SQFOOT  TOT_LVG_AREA  S_LEGAL  CONST_CLASS  \\\n",
       "395999    False    False       False         False    False        False   \n",
       "379095    False    False       False         False    False        False   \n",
       "74245     False    False       False         False    False        False   \n",
       "293273    False    False       False         False    False        False   \n",
       "330219    False    False       False         False    False        False   \n",
       "...         ...      ...         ...           ...      ...          ...   \n",
       "259178    False    False       False         False    False        False   \n",
       "365838    False    False       False         False    False        False   \n",
       "131932    False    False       False         False    False        False   \n",
       "146867    False    False       False         False    False        False   \n",
       "121958    False    False       False         False    False        False   \n",
       "\n",
       "        IMP_QUAL     JV  LND_VAL  NO_BULDNG  NCONST_VAL  DEL_VAL  \\\n",
       "395999     False  False    False      False       False    False   \n",
       "379095     False  False    False      False       False    False   \n",
       "74245      False  False    False      False       False    False   \n",
       "293273     False  False    False      False       False    False   \n",
       "330219     False  False    False      False       False    False   \n",
       "...          ...    ...      ...        ...         ...      ...   \n",
       "259178     False  False    False      False       False    False   \n",
       "365838     False  False    False      False       False    False   \n",
       "131932     False  False    False      False       False    False   \n",
       "146867     False  False    False      False       False    False   \n",
       "121958     False  False    False      False       False    False   \n",
       "\n",
       "        SPEC_FEAT_VAL  MonthDifference  SALE_PRC1  Target_Var  \n",
       "395999          False            False      False       False  \n",
       "379095          False            False      False       False  \n",
       "74245           False            False      False       False  \n",
       "293273          False            False      False       False  \n",
       "330219          False            False      False       False  \n",
       "...               ...              ...        ...         ...  \n",
       "259178          False            False      False       False  \n",
       "365838          False            False      False       False  \n",
       "131932          False            False      False       False  \n",
       "146867          False            False      False       False  \n",
       "121958          False            False      False       False  \n",
       "\n",
       "[281206 rows x 16 columns]"
      ]
     },
     "execution_count": 10,
     "metadata": {},
     "output_type": "execute_result"
    }
   ],
   "source": [
    "train.isnull()"
   ]
  },
  {
   "cell_type": "code",
   "execution_count": 11,
   "metadata": {},
   "outputs": [],
   "source": [
    "from sklearn.compose import ColumnTransformer\n",
    "from sklearn.pipeline import Pipeline\n",
    "from sklearn.impute import SimpleImputer\n",
    "from sklearn.preprocessing import StandardScaler\n",
    "from sklearn.preprocessing import OneHotEncoder"
   ]
  },
  {
   "cell_type": "code",
   "execution_count": 12,
   "metadata": {},
   "outputs": [],
   "source": [
    "#Separating Target Variable\n",
    "train_y = train[['Target_Var']]\n",
    "test_y = test[['Target_Var']]\n",
    "\n",
    "#Removing Target, Profit_Loss and SALE_PRC2 from the Data Set\n",
    "train_x = train.drop(['Target_Var'], axis =1)\n",
    "test_x = test.drop(['Target_Var'], axis =1)   "
   ]
  },
  {
   "cell_type": "code",
   "execution_count": 13,
   "metadata": {},
   "outputs": [
    {
     "data": {
      "text/plain": [
       "(281206, 15)"
      ]
     },
     "execution_count": 13,
     "metadata": {},
     "output_type": "execute_result"
    }
   ],
   "source": [
    "train_x.shape"
   ]
  },
  {
   "cell_type": "code",
   "execution_count": 14,
   "metadata": {},
   "outputs": [],
   "source": [
    "#Transforming Data Types for Numeric Columns which are categorical in nature:\n",
    "#Int\n",
    "flippers[['EFF_AGE','ACT_AGE','LND_SQFOOT','TOT_LVG_AREA','JV','LND_VAL',\n",
    "        'NO_BULDNG','NCONST_VAL','DEL_VAL','SPEC_FEAT_VAL','MonthDifference'\n",
    "        ,'SALE_PRC1']]=flippers[['EFF_AGE','ACT_AGE','LND_SQFOOT','TOT_LVG_AREA','JV','LND_VAL',\n",
    "        'NO_BULDNG','NCONST_VAL','DEL_VAL','SPEC_FEAT_VAL','MonthDifference','SALE_PRC1']].astype(int)\n",
    "\n",
    "#Str\n",
    "flippers[['S_LEGAL','IMP_QUAL','CONST_CLASS']]=flippers[['S_LEGAL','IMP_QUAL'\n",
    ",'CONST_CLASS']].astype(str)\n"
   ]
  },
  {
   "cell_type": "code",
   "execution_count": 15,
   "metadata": {},
   "outputs": [],
   "source": [
    "numeric_columns = ['EFF_AGE','ACT_AGE','LND_SQFOOT','TOT_LVG_AREA','JV','LND_VAL',\n",
    "                  'NO_BULDNG','NCONST_VAL','DEL_VAL','SPEC_FEAT_VAL','MonthDifference','SALE_PRC1']\n",
    "\n",
    "categorical_columns = ['S_LEGAL','IMP_QUAL','CONST_CLASS']"
   ]
  },
  {
   "cell_type": "code",
   "execution_count": 16,
   "metadata": {},
   "outputs": [
    {
     "data": {
      "text/plain": [
       "['EFF_AGE',\n",
       " 'ACT_AGE',\n",
       " 'LND_SQFOOT',\n",
       " 'TOT_LVG_AREA',\n",
       " 'JV',\n",
       " 'LND_VAL',\n",
       " 'NO_BULDNG',\n",
       " 'NCONST_VAL',\n",
       " 'DEL_VAL',\n",
       " 'SPEC_FEAT_VAL',\n",
       " 'MonthDifference',\n",
       " 'SALE_PRC1']"
      ]
     },
     "execution_count": 16,
     "metadata": {},
     "output_type": "execute_result"
    }
   ],
   "source": [
    "numeric_columns"
   ]
  },
  {
   "cell_type": "code",
   "execution_count": 17,
   "metadata": {},
   "outputs": [
    {
     "data": {
      "text/plain": [
       "['S_LEGAL', 'IMP_QUAL', 'CONST_CLASS']"
      ]
     },
     "execution_count": 17,
     "metadata": {},
     "output_type": "execute_result"
    }
   ],
   "source": [
    "categorical_columns"
   ]
  },
  {
   "cell_type": "code",
   "execution_count": 18,
   "metadata": {},
   "outputs": [
    {
     "data": {
      "text/plain": [
       "EFF_AGE            0\n",
       "ACT_AGE            0\n",
       "LND_SQFOOT         0\n",
       "TOT_LVG_AREA       0\n",
       "S_LEGAL            0\n",
       "CONST_CLASS        0\n",
       "IMP_QUAL           0\n",
       "JV                 0\n",
       "LND_VAL            0\n",
       "NO_BULDNG          0\n",
       "NCONST_VAL         0\n",
       "DEL_VAL            0\n",
       "SPEC_FEAT_VAL      0\n",
       "MonthDifference    0\n",
       "SALE_PRC1          0\n",
       "Target_Var         0\n",
       "dtype: int64"
      ]
     },
     "execution_count": 18,
     "metadata": {},
     "output_type": "execute_result"
    }
   ],
   "source": [
    "train.isna().sum()"
   ]
  },
  {
   "cell_type": "code",
   "execution_count": 19,
   "metadata": {},
   "outputs": [],
   "source": [
    "# Numeric Transformer\n",
    "numeric_transformer = Pipeline(steps =[\n",
    "    ('imputer', SimpleImputer(strategy='median')),\n",
    "    ('scaler',StandardScaler())\n",
    "])"
   ]
  },
  {
   "cell_type": "code",
   "execution_count": 20,
   "metadata": {},
   "outputs": [],
   "source": [
    "#Categorical Transformer\n",
    "categorical_transformer = Pipeline(steps=[\n",
    "    ('imputer', SimpleImputer(strategy='constant',fill_value='unknown')),\n",
    "    ('onehot', OneHotEncoder(handle_unknown='ignore'))\n",
    "])"
   ]
  },
  {
   "cell_type": "code",
   "execution_count": 21,
   "metadata": {},
   "outputs": [],
   "source": [
    "#Preprocessor\n",
    "preprocessor = ColumnTransformer([\n",
    "    ('num',numeric_transformer,numeric_columns),\n",
    "    ('cat', categorical_transformer, categorical_columns)\n",
    "  \n",
    "])"
   ]
  },
  {
   "cell_type": "code",
   "execution_count": 22,
   "metadata": {},
   "outputs": [
    {
     "data": {
      "text/plain": [
       "<281206x100785 sparse matrix of type '<class 'numpy.float64'>'\n",
       "\twith 4218090 stored elements in Compressed Sparse Row format>"
      ]
     },
     "execution_count": 22,
     "metadata": {},
     "output_type": "execute_result"
    }
   ],
   "source": [
    "#Fit and transform the train data\n",
    "train_x = preprocessor.fit_transform(train_x)\n",
    "\n",
    "train_x"
   ]
  },
  {
   "cell_type": "code",
   "execution_count": 23,
   "metadata": {},
   "outputs": [
    {
     "data": {
      "text/plain": [
       "<120517x100785 sparse matrix of type '<class 'numpy.float64'>'\n",
       "\twith 1783563 stored elements in Compressed Sparse Row format>"
      ]
     },
     "execution_count": 23,
     "metadata": {},
     "output_type": "execute_result"
    }
   ],
   "source": [
    "#Fit and transform the test data\n",
    "test_x = preprocessor.transform(test_x)\n",
    "\n",
    "test_x"
   ]
  },
  {
   "cell_type": "code",
   "execution_count": 24,
   "metadata": {},
   "outputs": [
    {
     "data": {
      "text/plain": [
       "(scipy.sparse._csr.csr_matrix, scipy.sparse._csr.csr_matrix)"
      ]
     },
     "execution_count": 24,
     "metadata": {},
     "output_type": "execute_result"
    }
   ],
   "source": [
    "type(train_x), type(test_x)"
   ]
  },
  {
   "cell_type": "code",
   "execution_count": 25,
   "metadata": {},
   "outputs": [
    {
     "data": {
      "text/plain": [
       "((281206, 100785), (120517, 100785))"
      ]
     },
     "execution_count": 25,
     "metadata": {},
     "output_type": "execute_result"
    }
   ],
   "source": [
    "train_x.shape, test_x.shape"
   ]
  },
  {
   "cell_type": "code",
   "execution_count": 26,
   "metadata": {},
   "outputs": [
    {
     "data": {
      "text/plain": [
       "array(['num__EFF_AGE', 'num__ACT_AGE', 'num__LND_SQFOOT', ...,\n",
       "       'cat__CONST_CLASS_3', 'cat__CONST_CLASS_4', 'cat__CONST_CLASS_5'],\n",
       "      dtype=object)"
      ]
     },
     "execution_count": 26,
     "metadata": {},
     "output_type": "execute_result"
    }
   ],
   "source": [
    "#Retrieving the column names:\n",
    "preprocessor.get_feature_names_out()"
   ]
  },
  {
   "cell_type": "code",
   "execution_count": 27,
   "metadata": {},
   "outputs": [
    {
     "data": {
      "text/plain": [
       "'1.1.2'"
      ]
     },
     "execution_count": 27,
     "metadata": {},
     "output_type": "execute_result"
    }
   ],
   "source": [
    "# Check if your scikit-learn version is below 1.1.1\n",
    "\n",
    "import sklearn\n",
    "\n",
    "sklearn.__version__"
   ]
  },
  {
   "cell_type": "code",
   "execution_count": 28,
   "metadata": {},
   "outputs": [
    {
     "data": {
      "text/plain": [
       "array(['num__EFF_AGE', 'num__ACT_AGE', 'num__LND_SQFOOT', ...,\n",
       "       'cat__CONST_CLASS_3', 'cat__CONST_CLASS_4', 'cat__CONST_CLASS_5'],\n",
       "      dtype=object)"
      ]
     },
     "execution_count": 28,
     "metadata": {},
     "output_type": "execute_result"
    }
   ],
   "source": [
    "# Now we can retrieve the column names:\n",
    "\n",
    "preprocessor.get_feature_names_out()"
   ]
  },
  {
   "cell_type": "code",
   "execution_count": 29,
   "metadata": {},
   "outputs": [],
   "source": [
    "from scipy.sparse import csr_matrix"
   ]
  },
  {
   "cell_type": "code",
   "execution_count": 30,
   "metadata": {},
   "outputs": [],
   "source": [
    "train_x1 = pd.DataFrame.sparse.from_spmatrix(train_x)\n",
    "test_x1 = pd.DataFrame.sparse.from_spmatrix(test_x)"
   ]
  },
  {
   "cell_type": "code",
   "execution_count": 31,
   "metadata": {},
   "outputs": [
    {
     "data": {
      "text/plain": [
       "(pandas.core.frame.DataFrame, pandas.core.frame.DataFrame)"
      ]
     },
     "execution_count": 31,
     "metadata": {},
     "output_type": "execute_result"
    }
   ],
   "source": [
    "type(train_x1), type(test_x1)\n"
   ]
  },
  {
   "cell_type": "code",
   "execution_count": 32,
   "metadata": {},
   "outputs": [
    {
     "data": {
      "text/plain": [
       "((281206, 100785), (120517, 100785))"
      ]
     },
     "execution_count": 32,
     "metadata": {},
     "output_type": "execute_result"
    }
   ],
   "source": [
    "train_x1.shape, test_x1.shape"
   ]
  },
  {
   "cell_type": "code",
   "execution_count": 33,
   "metadata": {},
   "outputs": [
    {
     "data": {
      "text/html": [
       "<div>\n",
       "<style scoped>\n",
       "    .dataframe tbody tr th:only-of-type {\n",
       "        vertical-align: middle;\n",
       "    }\n",
       "\n",
       "    .dataframe tbody tr th {\n",
       "        vertical-align: top;\n",
       "    }\n",
       "\n",
       "    .dataframe thead th {\n",
       "        text-align: right;\n",
       "    }\n",
       "</style>\n",
       "<table border=\"1\" class=\"dataframe\">\n",
       "  <thead>\n",
       "    <tr style=\"text-align: right;\">\n",
       "      <th></th>\n",
       "      <th>0</th>\n",
       "      <th>1</th>\n",
       "      <th>2</th>\n",
       "      <th>3</th>\n",
       "      <th>4</th>\n",
       "      <th>5</th>\n",
       "      <th>6</th>\n",
       "      <th>7</th>\n",
       "      <th>8</th>\n",
       "      <th>9</th>\n",
       "      <th>...</th>\n",
       "      <th>100775</th>\n",
       "      <th>100776</th>\n",
       "      <th>100777</th>\n",
       "      <th>100778</th>\n",
       "      <th>100779</th>\n",
       "      <th>100780</th>\n",
       "      <th>100781</th>\n",
       "      <th>100782</th>\n",
       "      <th>100783</th>\n",
       "      <th>100784</th>\n",
       "    </tr>\n",
       "  </thead>\n",
       "  <tbody>\n",
       "    <tr>\n",
       "      <th>0</th>\n",
       "      <td>-1.001640</td>\n",
       "      <td>-1.193780</td>\n",
       "      <td>-0.050022</td>\n",
       "      <td>-0.730576</td>\n",
       "      <td>-0.347097</td>\n",
       "      <td>-0.207045</td>\n",
       "      <td>-0.111491</td>\n",
       "      <td>-0.086052</td>\n",
       "      <td>-0.060607</td>\n",
       "      <td>-0.532543</td>\n",
       "      <td>...</td>\n",
       "      <td>1.0</td>\n",
       "      <td>0.0</td>\n",
       "      <td>0.0</td>\n",
       "      <td>0.0</td>\n",
       "      <td>0.0</td>\n",
       "      <td>0.0</td>\n",
       "      <td>0.0</td>\n",
       "      <td>1.0</td>\n",
       "      <td>0.0</td>\n",
       "      <td>0.0</td>\n",
       "    </tr>\n",
       "    <tr>\n",
       "      <th>1</th>\n",
       "      <td>-0.942811</td>\n",
       "      <td>-1.145726</td>\n",
       "      <td>-0.055858</td>\n",
       "      <td>3.214772</td>\n",
       "      <td>0.309583</td>\n",
       "      <td>-0.078472</td>\n",
       "      <td>-0.111491</td>\n",
       "      <td>-0.086052</td>\n",
       "      <td>-0.060607</td>\n",
       "      <td>1.857941</td>\n",
       "      <td>...</td>\n",
       "      <td>1.0</td>\n",
       "      <td>0.0</td>\n",
       "      <td>0.0</td>\n",
       "      <td>0.0</td>\n",
       "      <td>1.0</td>\n",
       "      <td>0.0</td>\n",
       "      <td>0.0</td>\n",
       "      <td>0.0</td>\n",
       "      <td>0.0</td>\n",
       "      <td>0.0</td>\n",
       "    </tr>\n",
       "    <tr>\n",
       "      <th>2</th>\n",
       "      <td>-0.001551</td>\n",
       "      <td>-0.376854</td>\n",
       "      <td>-0.094158</td>\n",
       "      <td>-0.144875</td>\n",
       "      <td>-0.391592</td>\n",
       "      <td>-0.197313</td>\n",
       "      <td>6.617859</td>\n",
       "      <td>-0.086052</td>\n",
       "      <td>-0.060607</td>\n",
       "      <td>0.130225</td>\n",
       "      <td>...</td>\n",
       "      <td>0.0</td>\n",
       "      <td>0.0</td>\n",
       "      <td>0.0</td>\n",
       "      <td>0.0</td>\n",
       "      <td>0.0</td>\n",
       "      <td>0.0</td>\n",
       "      <td>0.0</td>\n",
       "      <td>0.0</td>\n",
       "      <td>1.0</td>\n",
       "      <td>0.0</td>\n",
       "    </tr>\n",
       "    <tr>\n",
       "      <th>3</th>\n",
       "      <td>-0.001551</td>\n",
       "      <td>0.872564</td>\n",
       "      <td>0.115833</td>\n",
       "      <td>0.666275</td>\n",
       "      <td>0.238633</td>\n",
       "      <td>0.101213</td>\n",
       "      <td>-0.111491</td>\n",
       "      <td>-0.086052</td>\n",
       "      <td>-0.060607</td>\n",
       "      <td>-0.532543</td>\n",
       "      <td>...</td>\n",
       "      <td>0.0</td>\n",
       "      <td>0.0</td>\n",
       "      <td>0.0</td>\n",
       "      <td>0.0</td>\n",
       "      <td>0.0</td>\n",
       "      <td>0.0</td>\n",
       "      <td>0.0</td>\n",
       "      <td>1.0</td>\n",
       "      <td>0.0</td>\n",
       "      <td>0.0</td>\n",
       "    </tr>\n",
       "    <tr>\n",
       "      <th>4</th>\n",
       "      <td>0.822051</td>\n",
       "      <td>1.016727</td>\n",
       "      <td>-0.096499</td>\n",
       "      <td>-0.615528</td>\n",
       "      <td>-0.239427</td>\n",
       "      <td>0.030204</td>\n",
       "      <td>-0.111491</td>\n",
       "      <td>-0.086052</td>\n",
       "      <td>-0.060607</td>\n",
       "      <td>-0.168523</td>\n",
       "      <td>...</td>\n",
       "      <td>0.0</td>\n",
       "      <td>0.0</td>\n",
       "      <td>0.0</td>\n",
       "      <td>0.0</td>\n",
       "      <td>0.0</td>\n",
       "      <td>0.0</td>\n",
       "      <td>1.0</td>\n",
       "      <td>0.0</td>\n",
       "      <td>0.0</td>\n",
       "      <td>0.0</td>\n",
       "    </tr>\n",
       "  </tbody>\n",
       "</table>\n",
       "<p>5 rows × 100785 columns</p>\n",
       "</div>"
      ],
      "text/plain": [
       "     0         1         2         3         4         5         6       \\\n",
       "0 -1.001640 -1.193780 -0.050022 -0.730576 -0.347097 -0.207045 -0.111491   \n",
       "1 -0.942811 -1.145726 -0.055858  3.214772  0.309583 -0.078472 -0.111491   \n",
       "2 -0.001551 -0.376854 -0.094158 -0.144875 -0.391592 -0.197313  6.617859   \n",
       "3 -0.001551  0.872564  0.115833  0.666275  0.238633  0.101213 -0.111491   \n",
       "4  0.822051  1.016727 -0.096499 -0.615528 -0.239427  0.030204 -0.111491   \n",
       "\n",
       "     7         8         9       ...  100775  100776  100777  100778  100779  \\\n",
       "0 -0.086052 -0.060607 -0.532543  ...     1.0     0.0     0.0     0.0     0.0   \n",
       "1 -0.086052 -0.060607  1.857941  ...     1.0     0.0     0.0     0.0     1.0   \n",
       "2 -0.086052 -0.060607  0.130225  ...     0.0     0.0     0.0     0.0     0.0   \n",
       "3 -0.086052 -0.060607 -0.532543  ...     0.0     0.0     0.0     0.0     0.0   \n",
       "4 -0.086052 -0.060607 -0.168523  ...     0.0     0.0     0.0     0.0     0.0   \n",
       "\n",
       "   100780  100781  100782  100783  100784  \n",
       "0     0.0     0.0     1.0     0.0     0.0  \n",
       "1     0.0     0.0     0.0     0.0     0.0  \n",
       "2     0.0     0.0     0.0     1.0     0.0  \n",
       "3     0.0     0.0     1.0     0.0     0.0  \n",
       "4     0.0     1.0     0.0     0.0     0.0  \n",
       "\n",
       "[5 rows x 100785 columns]"
      ]
     },
     "execution_count": 33,
     "metadata": {},
     "output_type": "execute_result"
    }
   ],
   "source": [
    "train_x1.head(5)"
   ]
  },
  {
   "cell_type": "markdown",
   "metadata": {},
   "source": [
    "### Baseline Accuracys"
   ]
  },
  {
   "cell_type": "code",
   "execution_count": 34,
   "metadata": {},
   "outputs": [
    {
     "data": {
      "text/plain": [
       "Target_Var\n",
       "0             218646\n",
       "1              62560\n",
       "dtype: int64"
      ]
     },
     "execution_count": 34,
     "metadata": {},
     "output_type": "execute_result"
    }
   ],
   "source": [
    "#Majority Class\n",
    "train_y.value_counts()"
   ]
  },
  {
   "cell_type": "code",
   "execution_count": 35,
   "metadata": {},
   "outputs": [
    {
     "data": {
      "text/plain": [
       "Target_Var\n",
       "0             0.77753\n",
       "1             0.22247\n",
       "dtype: float64"
      ]
     },
     "execution_count": 35,
     "metadata": {},
     "output_type": "execute_result"
    }
   ],
   "source": [
    "#Majority Class by Percentage\n",
    "train_y.value_counts()/len(train_y)"
   ]
  },
  {
   "cell_type": "markdown",
   "metadata": {},
   "source": [
    "### Baseline - 78%"
   ]
  },
  {
   "cell_type": "code",
   "execution_count": 36,
   "metadata": {},
   "outputs": [],
   "source": [
    "from sklearn.linear_model import LogisticRegression"
   ]
  },
  {
   "cell_type": "code",
   "execution_count": 37,
   "metadata": {},
   "outputs": [
    {
     "name": "stderr",
     "output_type": "stream",
     "text": [
      "c:\\Users\\User\\AppData\\Local\\Programs\\Python\\Python310\\lib\\site-packages\\sklearn\\utils\\validation.py:1111: DataConversionWarning: A column-vector y was passed when a 1d array was expected. Please change the shape of y to (n_samples, ), for example using ravel().\n",
      "  y = column_or_1d(y, warn=True)\n",
      "c:\\Users\\User\\AppData\\Local\\Programs\\Python\\Python310\\lib\\site-packages\\sklearn\\linear_model\\_logistic.py:444: ConvergenceWarning: lbfgs failed to converge (status=1):\n",
      "STOP: TOTAL NO. of ITERATIONS REACHED LIMIT.\n",
      "\n",
      "Increase the number of iterations (max_iter) or scale the data as shown in:\n",
      "    https://scikit-learn.org/stable/modules/preprocessing.html\n",
      "Please also refer to the documentation for alternative solver options:\n",
      "    https://scikit-learn.org/stable/modules/linear_model.html#logistic-regression\n",
      "  n_iter_i = _check_optimize_result(\n"
     ]
    },
    {
     "data": {
      "text/html": [
       "<style>#sk-container-id-1 {color: black;background-color: white;}#sk-container-id-1 pre{padding: 0;}#sk-container-id-1 div.sk-toggleable {background-color: white;}#sk-container-id-1 label.sk-toggleable__label {cursor: pointer;display: block;width: 100%;margin-bottom: 0;padding: 0.3em;box-sizing: border-box;text-align: center;}#sk-container-id-1 label.sk-toggleable__label-arrow:before {content: \"▸\";float: left;margin-right: 0.25em;color: #696969;}#sk-container-id-1 label.sk-toggleable__label-arrow:hover:before {color: black;}#sk-container-id-1 div.sk-estimator:hover label.sk-toggleable__label-arrow:before {color: black;}#sk-container-id-1 div.sk-toggleable__content {max-height: 0;max-width: 0;overflow: hidden;text-align: left;background-color: #f0f8ff;}#sk-container-id-1 div.sk-toggleable__content pre {margin: 0.2em;color: black;border-radius: 0.25em;background-color: #f0f8ff;}#sk-container-id-1 input.sk-toggleable__control:checked~div.sk-toggleable__content {max-height: 200px;max-width: 100%;overflow: auto;}#sk-container-id-1 input.sk-toggleable__control:checked~label.sk-toggleable__label-arrow:before {content: \"▾\";}#sk-container-id-1 div.sk-estimator input.sk-toggleable__control:checked~label.sk-toggleable__label {background-color: #d4ebff;}#sk-container-id-1 div.sk-label input.sk-toggleable__control:checked~label.sk-toggleable__label {background-color: #d4ebff;}#sk-container-id-1 input.sk-hidden--visually {border: 0;clip: rect(1px 1px 1px 1px);clip: rect(1px, 1px, 1px, 1px);height: 1px;margin: -1px;overflow: hidden;padding: 0;position: absolute;width: 1px;}#sk-container-id-1 div.sk-estimator {font-family: monospace;background-color: #f0f8ff;border: 1px dotted black;border-radius: 0.25em;box-sizing: border-box;margin-bottom: 0.5em;}#sk-container-id-1 div.sk-estimator:hover {background-color: #d4ebff;}#sk-container-id-1 div.sk-parallel-item::after {content: \"\";width: 100%;border-bottom: 1px solid gray;flex-grow: 1;}#sk-container-id-1 div.sk-label:hover label.sk-toggleable__label {background-color: #d4ebff;}#sk-container-id-1 div.sk-serial::before {content: \"\";position: absolute;border-left: 1px solid gray;box-sizing: border-box;top: 0;bottom: 0;left: 50%;z-index: 0;}#sk-container-id-1 div.sk-serial {display: flex;flex-direction: column;align-items: center;background-color: white;padding-right: 0.2em;padding-left: 0.2em;position: relative;}#sk-container-id-1 div.sk-item {position: relative;z-index: 1;}#sk-container-id-1 div.sk-parallel {display: flex;align-items: stretch;justify-content: center;background-color: white;position: relative;}#sk-container-id-1 div.sk-item::before, #sk-container-id-1 div.sk-parallel-item::before {content: \"\";position: absolute;border-left: 1px solid gray;box-sizing: border-box;top: 0;bottom: 0;left: 50%;z-index: -1;}#sk-container-id-1 div.sk-parallel-item {display: flex;flex-direction: column;z-index: 1;position: relative;background-color: white;}#sk-container-id-1 div.sk-parallel-item:first-child::after {align-self: flex-end;width: 50%;}#sk-container-id-1 div.sk-parallel-item:last-child::after {align-self: flex-start;width: 50%;}#sk-container-id-1 div.sk-parallel-item:only-child::after {width: 0;}#sk-container-id-1 div.sk-dashed-wrapped {border: 1px dashed gray;margin: 0 0.4em 0.5em 0.4em;box-sizing: border-box;padding-bottom: 0.4em;background-color: white;}#sk-container-id-1 div.sk-label label {font-family: monospace;font-weight: bold;display: inline-block;line-height: 1.2em;}#sk-container-id-1 div.sk-label-container {text-align: center;}#sk-container-id-1 div.sk-container {/* jupyter's `normalize.less` sets `[hidden] { display: none; }` but bootstrap.min.css set `[hidden] { display: none !important; }` so we also need the `!important` here to be able to override the default hidden behavior on the sphinx rendered scikit-learn.org. See: https://github.com/scikit-learn/scikit-learn/issues/21755 */display: inline-block !important;position: relative;}#sk-container-id-1 div.sk-text-repr-fallback {display: none;}</style><div id=\"sk-container-id-1\" class=\"sk-top-container\"><div class=\"sk-text-repr-fallback\"><pre>LogisticRegression(random_state=42)</pre><b>In a Jupyter environment, please rerun this cell to show the HTML representation or trust the notebook. <br />On GitHub, the HTML representation is unable to render, please try loading this page with nbviewer.org.</b></div><div class=\"sk-container\" hidden><div class=\"sk-item\"><div class=\"sk-estimator sk-toggleable\"><input class=\"sk-toggleable__control sk-hidden--visually\" id=\"sk-estimator-id-1\" type=\"checkbox\" checked><label for=\"sk-estimator-id-1\" class=\"sk-toggleable__label sk-toggleable__label-arrow\">LogisticRegression</label><div class=\"sk-toggleable__content\"><pre>LogisticRegression(random_state=42)</pre></div></div></div></div></div>"
      ],
      "text/plain": [
       "LogisticRegression(random_state=42)"
      ]
     },
     "execution_count": 37,
     "metadata": {},
     "output_type": "execute_result"
    }
   ],
   "source": [
    "lr = LogisticRegression(random_state =42)\n",
    "lr.fit(train_x,train_y)"
   ]
  },
  {
   "cell_type": "code",
   "execution_count": 38,
   "metadata": {},
   "outputs": [
    {
     "data": {
      "text/plain": [
       "(0.8272440844078718, 0.8000116166184024)"
      ]
     },
     "execution_count": 38,
     "metadata": {},
     "output_type": "execute_result"
    }
   ],
   "source": [
    "lr.score(train_x,train_y),lr.score(test_x,test_y)"
   ]
  },
  {
   "cell_type": "markdown",
   "metadata": {},
   "source": [
    "## Accuracy"
   ]
  },
  {
   "cell_type": "code",
   "execution_count": 39,
   "metadata": {},
   "outputs": [],
   "source": [
    "from sklearn.metrics import accuracy_score"
   ]
  },
  {
   "cell_type": "code",
   "execution_count": 40,
   "metadata": {},
   "outputs": [
    {
     "data": {
      "text/plain": [
       "0.8272440844078718"
      ]
     },
     "execution_count": 40,
     "metadata": {},
     "output_type": "execute_result"
    }
   ],
   "source": [
    "#Predicting the trian values\n",
    "train_y_pred = lr.predict(train_x)\n",
    "\n",
    "#Train accuracy\n",
    "accuracy_score(train_y, train_y_pred)"
   ]
  },
  {
   "cell_type": "code",
   "execution_count": 41,
   "metadata": {},
   "outputs": [
    {
     "data": {
      "text/plain": [
       "0.8000116166184024"
      ]
     },
     "execution_count": 41,
     "metadata": {},
     "output_type": "execute_result"
    }
   ],
   "source": [
    "#Predicting the test values\n",
    "test_y_pred = lr.predict(test_x)\n",
    "\n",
    "#Test accuracy\n",
    "accuracy_score(test_y, test_y_pred)"
   ]
  },
  {
   "cell_type": "markdown",
   "metadata": {},
   "source": [
    "## Classification Matrix"
   ]
  },
  {
   "cell_type": "code",
   "execution_count": 42,
   "metadata": {},
   "outputs": [
    {
     "data": {
      "text/plain": [
       "array([[90423,  3409],\n",
       "       [20693,  5992]], dtype=int64)"
      ]
     },
     "execution_count": 42,
     "metadata": {},
     "output_type": "execute_result"
    }
   ],
   "source": [
    "from sklearn.metrics import confusion_matrix\n",
    "confusion_matrix(test_y, test_y_pred)"
   ]
  },
  {
   "cell_type": "markdown",
   "metadata": {},
   "source": [
    "## Classification Report"
   ]
  },
  {
   "cell_type": "code",
   "execution_count": 43,
   "metadata": {},
   "outputs": [
    {
     "name": "stdout",
     "output_type": "stream",
     "text": [
      "              precision    recall  f1-score   support\n",
      "\n",
      "           0       0.81      0.96      0.88     93832\n",
      "           1       0.64      0.22      0.33     26685\n",
      "\n",
      "    accuracy                           0.80    120517\n",
      "   macro avg       0.73      0.59      0.61    120517\n",
      "weighted avg       0.77      0.80      0.76    120517\n",
      "\n"
     ]
    }
   ],
   "source": [
    "from sklearn.metrics import classification_report\n",
    "\n",
    "print(classification_report(test_y, test_y_pred))"
   ]
  },
  {
   "cell_type": "code",
   "execution_count": 44,
   "metadata": {},
   "outputs": [
    {
     "data": {
      "text/plain": [
       "array([-1.02380528])"
      ]
     },
     "execution_count": 44,
     "metadata": {},
     "output_type": "execute_result"
    }
   ],
   "source": [
    "lr.intercept_"
   ]
  },
  {
   "cell_type": "code",
   "execution_count": 45,
   "metadata": {},
   "outputs": [],
   "source": [
    "def inv_logit(p):\n",
    "    return np.exp(p) / (1 + np.exp(p))"
   ]
  },
  {
   "cell_type": "code",
   "execution_count": 46,
   "metadata": {},
   "outputs": [
    {
     "data": {
      "text/plain": [
       "array([0.26428684])"
      ]
     },
     "execution_count": 46,
     "metadata": {},
     "output_type": "execute_result"
    }
   ],
   "source": [
    "inv_logit(lr.intercept_)"
   ]
  },
  {
   "cell_type": "code",
   "execution_count": 47,
   "metadata": {},
   "outputs": [],
   "source": [
    "flippers_inputs = flippers.drop(['Target_Var'], axis =1)\n"
   ]
  },
  {
   "cell_type": "code",
   "execution_count": 48,
   "metadata": {},
   "outputs": [
    {
     "data": {
      "text/plain": [
       "<bound method NDFrame.head of         EFF_AGE  ACT_AGE  LND_SQFOOT  TOT_LVG_AREA  \\\n",
       "0            23       23       20850          1453   \n",
       "1            18       22       10000          1330   \n",
       "2             7       30       10000          1395   \n",
       "3            12       20       10000          1551   \n",
       "4            42       42       10250          1702   \n",
       "...         ...      ...         ...           ...   \n",
       "401718       56       56       11199          1817   \n",
       "401719       60       60        9008          1860   \n",
       "401720       68       68        8799          1323   \n",
       "401721       68       68        8250          1166   \n",
       "401722       17       17        6534          1416   \n",
       "\n",
       "                               S_LEGAL CONST_CLASS IMP_QUAL      JV  LND_VAL  \\\n",
       "0       LOTS 13 TO 18 INC BLK L 4TH AD           0        3  154349    13755   \n",
       "1       LOT 8 BLK 266 DELTONA LAKES UN           0        3  149271    20400   \n",
       "2       LOT 9 BLK 322 DELTONA LAKES UN           0        3  169016    21200   \n",
       "3       LOT 9 BLK 370 DELTONA LAKES UN           0        3  167252    21200   \n",
       "4       LOT 7 BLK 366 DELTONA LAKES UN           0        3  130450    24600   \n",
       "...                                ...         ...      ...     ...      ...   \n",
       "401718   CLEVELAND HEIGHTS MANOR PB 43           0        3   60107    14500   \n",
       "401719  GLENDALE MANOR SECOND ADD PB 4           0        3   85393    23000   \n",
       "401720  HIGHLAND HILLS PB 35 PG 27 BLK           0        3   58916    20000   \n",
       "401721  HIGHLAND HILLS PB 35 PG 27 BLK           0        3   58182    20000   \n",
       "401722   PORTOFINO SHORES-PHASE THREE-           3        5   79600    10000   \n",
       "\n",
       "        NO_BULDNG  NCONST_VAL  DEL_VAL  SPEC_FEAT_VAL  MonthDifference  \\\n",
       "0               1           0        0          13661                5   \n",
       "1               1           0        0            278                3   \n",
       "2               1           0        0              0                5   \n",
       "3               1           0        0            142                4   \n",
       "4               1           0        0            897                4   \n",
       "...           ...         ...      ...            ...              ...   \n",
       "401718          1           0        0           2000                1   \n",
       "401719          1           0        0           2500                5   \n",
       "401720          1           0        0              0                3   \n",
       "401721          1        1987        0           1000                7   \n",
       "401722          1           0        0              0                2   \n",
       "\n",
       "        SALE_PRC1  \n",
       "0          205000  \n",
       "1          210000  \n",
       "2          199900  \n",
       "3          186000  \n",
       "4          219900  \n",
       "...           ...  \n",
       "401718      60000  \n",
       "401719      77900  \n",
       "401720      79000  \n",
       "401721      74800  \n",
       "401722     100000  \n",
       "\n",
       "[401723 rows x 15 columns]>"
      ]
     },
     "execution_count": 48,
     "metadata": {},
     "output_type": "execute_result"
    }
   ],
   "source": [
    "flippers_inputs.head"
   ]
  },
  {
   "cell_type": "code",
   "execution_count": 49,
   "metadata": {},
   "outputs": [],
   "source": [
    "flippers_target = flippers['Target_Var']"
   ]
  },
  {
   "cell_type": "code",
   "execution_count": 50,
   "metadata": {},
   "outputs": [
    {
     "data": {
      "text/plain": [
       "<bound method NDFrame.head of 0         0\n",
       "1         0\n",
       "2         0\n",
       "3         0\n",
       "4         0\n",
       "         ..\n",
       "401718    0\n",
       "401719    0\n",
       "401720    0\n",
       "401721    0\n",
       "401722    0\n",
       "Name: Target_Var, Length: 401723, dtype: int64>"
      ]
     },
     "execution_count": 50,
     "metadata": {},
     "output_type": "execute_result"
    }
   ],
   "source": [
    "flippers_target.head"
   ]
  },
  {
   "cell_type": "code",
   "execution_count": 51,
   "metadata": {},
   "outputs": [
    {
     "name": "stdout",
     "output_type": "stream",
     "text": [
      "S_LEGAL        2.423      0.919\n",
      "EFF_AGE        0.211      0.553\n",
      "TOT_LVG_AREA     0.168      0.542\n",
      "CONST_CLASS     0.074      0.518\n",
      "NO_BULDNG      0.032      0.508\n",
      "LND_VAL        0.021      0.505\n",
      "LND_SQFOOT    -0.008      0.498\n",
      "SALE_PRC1     -0.017      0.496\n",
      "IMP_QUAL      -0.023      0.494\n",
      "JV            -0.027      0.493\n",
      "SPEC_FEAT_VAL    -0.082      0.479\n",
      "ACT_AGE       -0.173      0.457\n",
      "MonthDifference    -0.215      0.446\n",
      "NCONST_VAL    -0.610      0.352\n",
      "DEL_VAL      -16.754      0.000\n"
     ]
    }
   ],
   "source": [
    "cols = flippers_inputs.columns\n",
    "for col, val in sorted(\n",
    "    zip(cols, lr.coef_[0]),\n",
    "    key=lambda x: x[1],\n",
    "    reverse=True,\n",
    "    ):print(f\"{col:10}{val:10.3f} {inv_logit(val):10.3f}\")\n"
   ]
  },
  {
   "cell_type": "code",
   "execution_count": 52,
   "metadata": {},
   "outputs": [],
   "source": [
    "from yellowbrick.model_selection.importances import FeatureImportances\n",
    "from matplotlib import pyplot as plt"
   ]
  },
  {
   "cell_type": "markdown",
   "metadata": {},
   "source": [
    "## to do: select top 5 and bottom 5 cofficients"
   ]
  },
  {
   "cell_type": "code",
   "execution_count": 53,
   "metadata": {},
   "outputs": [],
   "source": [
    "\n",
    "test_x_10 = test_x[:10]\n",
    "test_y_10 = test_y[:10]"
   ]
  },
  {
   "cell_type": "code",
   "execution_count": 54,
   "metadata": {},
   "outputs": [
    {
     "data": {
      "text/plain": [
       "((10, 100785), (10, 1))"
      ]
     },
     "execution_count": 54,
     "metadata": {},
     "output_type": "execute_result"
    }
   ],
   "source": [
    "test_x_10.shape, test_y_10.shape"
   ]
  },
  {
   "cell_type": "code",
   "execution_count": 55,
   "metadata": {},
   "outputs": [
    {
     "name": "stderr",
     "output_type": "stream",
     "text": [
      "c:\\Users\\User\\AppData\\Local\\Programs\\Python\\Python310\\lib\\site-packages\\yellowbrick\\model_selection\\importances.py:194: YellowbrickWarning: detected multi-dimensional feature importances but stack=False, using mean to aggregate them.\n",
      "  warnings.warn(\n"
     ]
    },
    {
     "data": {
      "image/png": "[encoded data removed]",
      "text/plain": [
       "<Figure size 600x400 with 1 Axes>"
      ]
     },
     "metadata": {},
     "output_type": "display_data"
    }
   ],
   "source": [
    "fig, ax = plt.subplots (figsize=(6,4))\n",
    "fi_viz = FeatureImportances(lr)\n",
    "fi_viz.fit(test_x_10,test_y_10)\n",
    "fi_viz.poof()\n",
    "fig.savefig(\"LR_Feature_Importance.png\")"
   ]
  },
  {
   "cell_type": "code",
   "execution_count": 56,
   "metadata": {},
   "outputs": [
    {
     "ename": "NameError",
     "evalue": "name 'flippers_train_processed' is not defined",
     "output_type": "error",
     "traceback": [
      "\u001b[1;31m---------------------------------------------------------------------------\u001b[0m",
      "\u001b[1;31mNameError\u001b[0m                                 Traceback (most recent call last)",
      "Cell \u001b[1;32mIn [56], line 1\u001b[0m\n\u001b[1;32m----> 1\u001b[0m test_x_top_5_features \u001b[39m=\u001b[39m np\u001b[39m.\u001b[39msort(flippers_train_processed)[:\u001b[39m10\u001b[39m,\u001b[39m-\u001b[39m\u001b[39m5\u001b[39m:]\n",
      "\u001b[1;31mNameError\u001b[0m: name 'flippers_train_processed' is not defined"
     ]
    }
   ],
   "source": [
    "test_x_top_5_features = np.sort(flippers_train_processed)[:10,-5:]\n",
    "#test_y_top_5_features = test_y[:10,-5:]"
   ]
  },
  {
   "cell_type": "code",
   "execution_count": null,
   "metadata": {},
   "outputs": [
    {
     "data": {
      "text/plain": [
       "((10, 5), (10, 1))"
      ]
     },
     "metadata": {},
     "output_type": "display_data"
    }
   ],
   "source": [
    "test_x_top_5_features.shape, test_y_10.shape"
   ]
  }
 ],
 "metadata": {
  "kernelspec": {
   "display_name": "Python 3.10.8 64-bit",
   "language": "python",
   "name": "python3"
  },
  "language_info": {
   "codemirror_mode": {
    "name": "ipython",
    "version": 3
   },
   "file_extension": ".py",
   "mimetype": "text/x-python",
   "name": "python",
   "nbconvert_exporter": "python",
   "pygments_lexer": "ipython3",
   "version": "3.10.8"
  },
  "orig_nbformat": 4,
  "vscode": {
   "interpreter": {
    "hash": "afb734500600fd355917ca529030176ea0ca205570884b88f2f6f7d791fd3fbe"
   }
  }
 },
 "nbformat": 4,
 "nbformat_minor": 2
}
